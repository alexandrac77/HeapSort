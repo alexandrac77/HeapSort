{
 "cells": [
  {
   "cell_type": "markdown",
   "id": "7b81ceb1",
   "metadata": {},
   "source": [
    "## Heap Sort\n"
   ]
  },
  {
   "cell_type": "markdown",
   "id": "5e088ffb",
   "metadata": {},
   "source": [
    "## Lists in python\n",
    "***"
   ]
  },
  {
   "cell_type": "code",
   "execution_count": 1,
   "id": "71312a94",
   "metadata": {},
   "outputs": [],
   "source": [
    "# Lists in python can be created with square bracket notation.\n",
    "# they are zero indexed.\n",
    "L = [1, 2, 3, \"Hello, world!\", None, True]"
   ]
  },
  {
   "cell_type": "code",
   "execution_count": 2,
   "id": "10eadec5",
   "metadata": {},
   "outputs": [
    {
     "data": {
      "text/plain": [
       "'Hello, world!'"
      ]
     },
     "execution_count": 2,
     "metadata": {},
     "output_type": "execute_result"
    }
   ],
   "source": [
    "L[3]"
   ]
  },
  {
   "cell_type": "code",
   "execution_count": 3,
   "id": "d63c0cc6",
   "metadata": {},
   "outputs": [
    {
     "data": {
      "text/plain": [
       "[1, 2, 3]"
      ]
     },
     "execution_count": 3,
     "metadata": {},
     "output_type": "execute_result"
    }
   ],
   "source": [
    "# create lists with the list() function\n",
    "list({1,2,3,3})"
   ]
  },
  {
   "cell_type": "code",
   "execution_count": 4,
   "id": "be4c03da",
   "metadata": {},
   "outputs": [
    {
     "data": {
      "text/plain": [
       "True"
      ]
     },
     "execution_count": 4,
     "metadata": {},
     "output_type": "execute_result"
    }
   ],
   "source": [
    "# using negative indexes.\n",
    "L[-1]"
   ]
  },
  {
   "cell_type": "code",
   "execution_count": 5,
   "id": "493bfdf0",
   "metadata": {},
   "outputs": [
    {
     "data": {
      "text/plain": [
       "'Hello, world!'"
      ]
     },
     "execution_count": 5,
     "metadata": {},
     "output_type": "execute_result"
    }
   ],
   "source": [
    "L[-3]"
   ]
  },
  {
   "cell_type": "code",
   "execution_count": 6,
   "id": "88c81603",
   "metadata": {},
   "outputs": [
    {
     "data": {
      "text/plain": [
       "[0,\n",
       " 2,\n",
       " 4,\n",
       " 6,\n",
       " 8,\n",
       " 10,\n",
       " 12,\n",
       " 14,\n",
       " 16,\n",
       " 18,\n",
       " 20,\n",
       " 22,\n",
       " 24,\n",
       " 26,\n",
       " 28,\n",
       " 30,\n",
       " 32,\n",
       " 34,\n",
       " 36,\n",
       " 38,\n",
       " 40,\n",
       " 42,\n",
       " 44,\n",
       " 46,\n",
       " 48,\n",
       " 50,\n",
       " 52,\n",
       " 54,\n",
       " 56,\n",
       " 58,\n",
       " 60,\n",
       " 62,\n",
       " 64,\n",
       " 66,\n",
       " 68,\n",
       " 70,\n",
       " 72,\n",
       " 74,\n",
       " 76,\n",
       " 78,\n",
       " 80,\n",
       " 82,\n",
       " 84,\n",
       " 86,\n",
       " 88,\n",
       " 90,\n",
       " 92,\n",
       " 94,\n",
       " 96,\n",
       " 98]"
      ]
     },
     "execution_count": 6,
     "metadata": {},
     "output_type": "execute_result"
    }
   ],
   "source": [
    "# in-built functions for creating iterables.\n",
    "# count in twos up to 100.\n",
    "list(range(0, 100, 2))"
   ]
  },
  {
   "cell_type": "code",
   "execution_count": 7,
   "id": "9d334162",
   "metadata": {},
   "outputs": [
    {
     "data": {
      "text/plain": [
       "[0, 1, 2, 3, 4, 5, 6, 7, 8, 9, 10, 11, 12, 13, 14, 15, 16, 17, 18, 19]"
      ]
     },
     "execution_count": 7,
     "metadata": {},
     "output_type": "execute_result"
    }
   ],
   "source": [
    "L = list(range(20))\n",
    "L"
   ]
  },
  {
   "cell_type": "code",
   "execution_count": 8,
   "id": "5f567e7a",
   "metadata": {},
   "outputs": [
    {
     "data": {
      "text/plain": [
       "[2, 5, 8]"
      ]
     },
     "execution_count": 8,
     "metadata": {},
     "output_type": "execute_result"
    }
   ],
   "source": [
    "# List slicing.\n",
    "L[1:10:2]\n",
    "L[2:10:3]"
   ]
  },
  {
   "cell_type": "code",
   "execution_count": 9,
   "id": "d50f1a0b",
   "metadata": {},
   "outputs": [
    {
     "data": {
      "text/plain": [
       "[4, 5, 6, 7, 8, 9, 10, 11, 12, 13, 14, 15, 16, 17, 18, 19]"
      ]
     },
     "execution_count": 9,
     "metadata": {},
     "output_type": "execute_result"
    }
   ],
   "source": [
    "L[4:]"
   ]
  },
  {
   "cell_type": "code",
   "execution_count": 10,
   "id": "420b9796",
   "metadata": {},
   "outputs": [
    {
     "data": {
      "text/plain": [
       "[0, 1, 2, 3, 4]"
      ]
     },
     "execution_count": 10,
     "metadata": {},
     "output_type": "execute_result"
    }
   ],
   "source": [
    "L[:5]"
   ]
  },
  {
   "cell_type": "code",
   "execution_count": 11,
   "id": "a263ac4b",
   "metadata": {},
   "outputs": [
    {
     "data": {
      "text/plain": [
       "[5, 6, 7, 8, 9, 10, 11, 12, 13, 14, 15, 16, 17, 18, 19, 0, 1, 2, 3, 4]"
      ]
     },
     "execution_count": 11,
     "metadata": {},
     "output_type": "execute_result"
    }
   ],
   "source": [
    "# Quick way to cycle the list to the left.\n",
    "i =5\n",
    "L[i:] + L[:i]"
   ]
  },
  {
   "cell_type": "code",
   "execution_count": 12,
   "id": "516a3458",
   "metadata": {},
   "outputs": [],
   "source": [
    "# Tuples. -- Immutable.\n",
    "T = (1,2,3,4)"
   ]
  },
  {
   "cell_type": "code",
   "execution_count": 13,
   "id": "8720320d",
   "metadata": {},
   "outputs": [
    {
     "data": {
      "text/plain": [
       "1"
      ]
     },
     "execution_count": 13,
     "metadata": {},
     "output_type": "execute_result"
    }
   ],
   "source": [
    "# select elements.\n",
    "T[0]"
   ]
  },
  {
   "cell_type": "code",
   "execution_count": 14,
   "id": "3f0a5e6e",
   "metadata": {},
   "outputs": [
    {
     "data": {
      "text/plain": [
       "(4,)"
      ]
     },
     "execution_count": 14,
     "metadata": {},
     "output_type": "execute_result"
    }
   ],
   "source": [
    "# Slice elements.\n",
    "T[3:]"
   ]
  },
  {
   "cell_type": "code",
   "execution_count": 15,
   "id": "5e6cf6bf",
   "metadata": {},
   "outputs": [],
   "source": [
    "# can't assign. - would give an error\n",
    "# T[2]= 100"
   ]
  },
  {
   "cell_type": "code",
   "execution_count": 16,
   "id": "2ed2e487",
   "metadata": {},
   "outputs": [
    {
     "data": {
      "text/plain": [
       "(1, 2, 3, 4)"
      ]
     },
     "execution_count": 16,
     "metadata": {},
     "output_type": "execute_result"
    }
   ],
   "source": [
    "# Tuples are created with commas as opposed to round brackets.\n",
    "T = 1,2,3,4\n",
    "T"
   ]
  },
  {
   "cell_type": "code",
   "execution_count": 17,
   "id": "5c502499",
   "metadata": {},
   "outputs": [
    {
     "data": {
      "text/plain": [
       "590899387183067792"
      ]
     },
     "execution_count": 17,
     "metadata": {},
     "output_type": "execute_result"
    }
   ],
   "source": [
    "hash(T)"
   ]
  },
  {
   "cell_type": "code",
   "execution_count": 18,
   "id": "3c23e3a2",
   "metadata": {},
   "outputs": [],
   "source": [
    "# You can use tuples for assignment.\n",
    "a, b = 3, 4"
   ]
  },
  {
   "cell_type": "code",
   "execution_count": 19,
   "id": "21322fe0",
   "metadata": {},
   "outputs": [
    {
     "data": {
      "text/plain": [
       "3"
      ]
     },
     "execution_count": 19,
     "metadata": {},
     "output_type": "execute_result"
    }
   ],
   "source": [
    "a"
   ]
  },
  {
   "cell_type": "code",
   "execution_count": 20,
   "id": "e96590d8",
   "metadata": {},
   "outputs": [
    {
     "data": {
      "text/plain": [
       "4"
      ]
     },
     "execution_count": 20,
     "metadata": {},
     "output_type": "execute_result"
    }
   ],
   "source": [
    "b"
   ]
  },
  {
   "cell_type": "code",
   "execution_count": 21,
   "id": "4e1b7ffd",
   "metadata": {},
   "outputs": [],
   "source": [
    "# trick for swapping two values\n",
    "a, b = b, a"
   ]
  },
  {
   "cell_type": "code",
   "execution_count": 22,
   "id": "43a0b6e3",
   "metadata": {},
   "outputs": [
    {
     "data": {
      "text/plain": [
       "4"
      ]
     },
     "execution_count": 22,
     "metadata": {},
     "output_type": "execute_result"
    }
   ],
   "source": [
    "a"
   ]
  },
  {
   "cell_type": "code",
   "execution_count": 23,
   "id": "c8af7305",
   "metadata": {},
   "outputs": [
    {
     "data": {
      "text/plain": [
       "3"
      ]
     },
     "execution_count": 23,
     "metadata": {},
     "output_type": "execute_result"
    }
   ],
   "source": [
    "b"
   ]
  },
  {
   "cell_type": "code",
   "execution_count": 24,
   "id": "dd0ab203",
   "metadata": {},
   "outputs": [
    {
     "data": {
      "text/plain": [
       "[0, 1, 2, 3, 4, 5, 6, 7, 8, 9]"
      ]
     },
     "execution_count": 24,
     "metadata": {},
     "output_type": "execute_result"
    }
   ],
   "source": [
    "# List of integers\n",
    "L = list(range(10))\n",
    "L"
   ]
  },
  {
   "cell_type": "code",
   "execution_count": 25,
   "id": "60717485",
   "metadata": {},
   "outputs": [
    {
     "data": {
      "text/plain": [
       "[0, 1, 8, 27, 64, 125, 216, 343, 512, 729]"
      ]
     },
     "execution_count": 25,
     "metadata": {},
     "output_type": "execute_result"
    }
   ],
   "source": [
    "# List comprehension.\n",
    "[i**3  for i in L]"
   ]
  },
  {
   "cell_type": "code",
   "execution_count": 26,
   "id": "04d806ab",
   "metadata": {},
   "outputs": [
    {
     "data": {
      "text/plain": [
       "[9, 8, 7, 6, 5, 4, 3, 2, 1, 0]"
      ]
     },
     "execution_count": 26,
     "metadata": {},
     "output_type": "execute_result"
    }
   ],
   "source": [
    "# curve ball.\n",
    "# reverse list.\n",
    "L[::-1]"
   ]
  },
  {
   "cell_type": "markdown",
   "id": "71fbfb78",
   "metadata": {},
   "source": [
    "\n",
    "\n",
    "\n",
    "## Bubble Sort\n",
    "***\n"
   ]
  },
  {
   "cell_type": "code",
   "execution_count": 27,
   "id": "5f74a932",
   "metadata": {},
   "outputs": [],
   "source": [
    "# Import a module from the standard library.\n",
    "import random"
   ]
  },
  {
   "cell_type": "code",
   "execution_count": 28,
   "id": "96c64971",
   "metadata": {},
   "outputs": [],
   "source": [
    "# create list of integers.\n",
    "L = list(range(1,11))"
   ]
  },
  {
   "cell_type": "code",
   "execution_count": 29,
   "id": "0a8ce7ec",
   "metadata": {},
   "outputs": [
    {
     "data": {
      "text/plain": [
       "[1, 2, 3, 4, 5, 6, 7, 8, 9, 10]"
      ]
     },
     "execution_count": 29,
     "metadata": {},
     "output_type": "execute_result"
    }
   ],
   "source": [
    "L"
   ]
  },
  {
   "cell_type": "code",
   "execution_count": 30,
   "id": "03944b59",
   "metadata": {},
   "outputs": [],
   "source": [
    "# shuffle the list.\n",
    "random.shuffle(L)"
   ]
  },
  {
   "cell_type": "code",
   "execution_count": 31,
   "id": "8b683745",
   "metadata": {},
   "outputs": [
    {
     "data": {
      "text/plain": [
       "[3, 7, 9, 6, 5, 8, 4, 1, 10, 2]"
      ]
     },
     "execution_count": 31,
     "metadata": {},
     "output_type": "execute_result"
    }
   ],
   "source": [
    "# the list is shuffled\n",
    "L"
   ]
  },
  {
   "cell_type": "code",
   "execution_count": 32,
   "id": "57a4f0fd",
   "metadata": {},
   "outputs": [],
   "source": [
    "# bubble sort as a function.\n",
    "\n",
    "def bubble_sort(L):\n",
    "    # track number of comparisons\n",
    "    no_comparisons = 0\n",
    "\n",
    "    # bubble every (biggest) element up.\n",
    "    for j in range(len(L)-1):\n",
    "        # keep track of any swaps.\n",
    "        swapped = False\n",
    "        # compare all elements that are side by side.\n",
    "        for i in range(len(L)-1 -j):\n",
    "            # compare ith element with the (i+1).\n",
    "            if L[i] > L[i+1]:\n",
    "                # swap the elements.\n",
    "                L[i], L[i+1] = L[i+1], L[i]\n",
    "                # keep track of the swap.\n",
    "                swapped = True\n",
    "            # add a comparison.\n",
    "            no_comparisons = no_comparisons + 1\n",
    "        # quit if no swaps were made\n",
    "        if not swapped:\n",
    "            break\n",
    "    # Return number of comparisons made\n",
    "    return no_comparisons"
   ]
  },
  {
   "cell_type": "code",
   "execution_count": 33,
   "id": "5f69b20d",
   "metadata": {},
   "outputs": [
    {
     "data": {
      "text/plain": [
       "[3, 7, 9, 6, 5, 8, 4, 1, 10, 2]"
      ]
     },
     "execution_count": 33,
     "metadata": {},
     "output_type": "execute_result"
    }
   ],
   "source": [
    "L"
   ]
  },
  {
   "cell_type": "code",
   "execution_count": 34,
   "id": "059bbe22",
   "metadata": {},
   "outputs": [
    {
     "ename": "NameError",
     "evalue": "name 'no_comparisons' is not defined",
     "output_type": "error",
     "traceback": [
      "\u001b[1;31m---------------------------------------------------------------------------\u001b[0m",
      "\u001b[1;31mNameError\u001b[0m                                 Traceback (most recent call last)",
      "\u001b[1;32m~\\AppData\\Local\\Temp/ipykernel_23520/1883017269.py\u001b[0m in \u001b[0;36m<module>\u001b[1;34m\u001b[0m\n\u001b[1;32m----> 1\u001b[1;33m \u001b[0mno_comparisons\u001b[0m\u001b[1;33m\u001b[0m\u001b[1;33m\u001b[0m\u001b[0m\n\u001b[0m",
      "\u001b[1;31mNameError\u001b[0m: name 'no_comparisons' is not defined"
     ]
    }
   ],
   "source": [
    "no_comparisons"
   ]
  },
  {
   "cell_type": "code",
   "execution_count": null,
   "id": "beb55845",
   "metadata": {},
   "outputs": [],
   "source": [
    "# Create a list.\n",
    "L = list(range(1,11))\n",
    "\n",
    "# Shuffle it.\n",
    "random.shuffle(L)\n",
    "\n",
    "# Look at it.\n",
    "L"
   ]
  },
  {
   "cell_type": "code",
   "execution_count": null,
   "id": "f5fd7f9f",
   "metadata": {},
   "outputs": [],
   "source": [
    "# function works on L in place.\n",
    "bubble_sort(L)"
   ]
  },
  {
   "cell_type": "code",
   "execution_count": null,
   "id": "b2e9a12e",
   "metadata": {},
   "outputs": [],
   "source": [
    "L"
   ]
  },
  {
   "cell_type": "code",
   "execution_count": null,
   "id": "16f14844",
   "metadata": {},
   "outputs": [],
   "source": [
    "# Once the list is sorted - bubble sort is O(n).\n",
    "bubble_sort(L)"
   ]
  },
  {
   "cell_type": "code",
   "execution_count": null,
   "id": "448bd43b",
   "metadata": {},
   "outputs": [],
   "source": [
    "# The worst case for bubble sort.\n",
    "L[::-1]"
   ]
  },
  {
   "cell_type": "code",
   "execution_count": null,
   "id": "49ec2ba7",
   "metadata": {},
   "outputs": [],
   "source": [
    "# Still O(n^2)\n",
    "bubble_sort(L[::-1])"
   ]
  },
  {
   "cell_type": "code",
   "execution_count": null,
   "id": "af563ca2",
   "metadata": {},
   "outputs": [],
   "source": [
    "sum(range(10))"
   ]
  },
  {
   "cell_type": "markdown",
   "id": "60865c53",
   "metadata": {},
   "source": [
    "## Heap Sort\n",
    "#### Transplanted from wikipedia\n",
    "***"
   ]
  },
  {
   "cell_type": "code",
   "execution_count": null,
   "id": "6ec72026",
   "metadata": {},
   "outputs": [],
   "source": [
    "def heapify(a, count):\n",
    "    start = (count -2) //2  # ((count - (count % 2)) /2) -1\n",
    "    \n",
    "    while start >=0:\n",
    "        siftDown(a, start, count -1)\n",
    "        start = start -1"
   ]
  },
  {
   "cell_type": "code",
   "execution_count": null,
   "id": "3a35180a",
   "metadata": {},
   "outputs": [],
   "source": [
    "def siftDown(a, start, end):\n",
    "    root = start\n",
    "    \n",
    "    while (2 * root + 1) <= end:\n",
    "        child = (2 * root + 1)\n",
    "        swap = root\n",
    "        \n",
    "        if a[swap] < a[child]:\n",
    "            swap = child\n",
    "        if child +1 <= end and a[swap] < a[child +1]:\n",
    "            swap = child + 1\n",
    "        if swap == root:\n",
    "            return\n",
    "        else:\n",
    "            a[root], a[swap] = a[swap], a[root]\n",
    "            root = swap"
   ]
  },
  {
   "cell_type": "code",
   "execution_count": null,
   "id": "c3880c1f",
   "metadata": {},
   "outputs": [],
   "source": [
    "def heapsort(a):\n",
    "    count = len(a)\n",
    "    \n",
    "    heapify(a, count)\n",
    "    end = count -1\n",
    "    \n",
    "    while end > 0:\n",
    "        a[0], a[end] = a[end], a[0]\n",
    "        end = end -1\n",
    "        siftDown(a, 0, end)"
   ]
  },
  {
   "cell_type": "code",
   "execution_count": null,
   "id": "178d44bc",
   "metadata": {},
   "outputs": [],
   "source": [
    "L = [5,1,3,7,8,9]"
   ]
  },
  {
   "cell_type": "code",
   "execution_count": null,
   "id": "dcb8d64a",
   "metadata": {},
   "outputs": [],
   "source": [
    "L"
   ]
  },
  {
   "cell_type": "code",
   "execution_count": null,
   "id": "c4083626",
   "metadata": {},
   "outputs": [],
   "source": [
    "heapsort(L)\n",
    "L"
   ]
  },
  {
   "cell_type": "code",
   "execution_count": null,
   "id": "9bf20beb",
   "metadata": {},
   "outputs": [],
   "source": [
    "import itertools\n",
    "\n",
    "for perm in itertools.permutations(range(5)):\n",
    "    L = list(perm)\n",
    "    heapsort(L)\n",
    "    print(f'{perm}  -> {L}')"
   ]
  },
  {
   "cell_type": "code",
   "execution_count": null,
   "id": "f7b912aa",
   "metadata": {},
   "outputs": [],
   "source": []
  }
 ],
 "metadata": {
  "kernelspec": {
   "display_name": "Python 3 (ipykernel)",
   "language": "python",
   "name": "python3"
  },
  "language_info": {
   "codemirror_mode": {
    "name": "ipython",
    "version": 3
   },
   "file_extension": ".py",
   "mimetype": "text/x-python",
   "name": "python",
   "nbconvert_exporter": "python",
   "pygments_lexer": "ipython3",
   "version": "3.9.7"
  }
 },
 "nbformat": 4,
 "nbformat_minor": 5
}
