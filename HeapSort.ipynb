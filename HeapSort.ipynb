{
 "cells": [
  {
   "cell_type": "markdown",
   "id": "7b81ceb1",
   "metadata": {},
   "source": [
    "## Heap Sort\n"
   ]
  },
  {
   "cell_type": "markdown",
   "id": "5e088ffb",
   "metadata": {},
   "source": [
    "## Lists in python\n",
    "***"
   ]
  },
  {
   "cell_type": "code",
   "execution_count": 1,
   "id": "71312a94",
   "metadata": {},
   "outputs": [],
   "source": [
    "# Lists in python can be created with square bracket notation.\n",
    "# they are zero indexed.\n",
    "L = [1, 2, 3, \"Hello, world!\", None, True]"
   ]
  },
  {
   "cell_type": "code",
   "execution_count": 2,
   "id": "10eadec5",
   "metadata": {},
   "outputs": [
    {
     "data": {
      "text/plain": [
       "'Hello, world!'"
      ]
     },
     "execution_count": 2,
     "metadata": {},
     "output_type": "execute_result"
    }
   ],
   "source": [
    "L[3]"
   ]
  },
  {
   "cell_type": "code",
   "execution_count": 3,
   "id": "d63c0cc6",
   "metadata": {},
   "outputs": [
    {
     "data": {
      "text/plain": [
       "[1, 2, 3]"
      ]
     },
     "execution_count": 3,
     "metadata": {},
     "output_type": "execute_result"
    }
   ],
   "source": [
    "# create lists with the list() function\n",
    "list({1,2,3,3})"
   ]
  },
  {
   "cell_type": "code",
   "execution_count": 4,
   "id": "be4c03da",
   "metadata": {},
   "outputs": [
    {
     "data": {
      "text/plain": [
       "True"
      ]
     },
     "execution_count": 4,
     "metadata": {},
     "output_type": "execute_result"
    }
   ],
   "source": [
    "# using negative indexes.\n",
    "L[-1]"
   ]
  },
  {
   "cell_type": "code",
   "execution_count": 5,
   "id": "493bfdf0",
   "metadata": {},
   "outputs": [
    {
     "data": {
      "text/plain": [
       "'Hello, world!'"
      ]
     },
     "execution_count": 5,
     "metadata": {},
     "output_type": "execute_result"
    }
   ],
   "source": [
    "L[-3]"
   ]
  },
  {
   "cell_type": "code",
   "execution_count": 6,
   "id": "88c81603",
   "metadata": {},
   "outputs": [
    {
     "data": {
      "text/plain": [
       "[0,\n",
       " 2,\n",
       " 4,\n",
       " 6,\n",
       " 8,\n",
       " 10,\n",
       " 12,\n",
       " 14,\n",
       " 16,\n",
       " 18,\n",
       " 20,\n",
       " 22,\n",
       " 24,\n",
       " 26,\n",
       " 28,\n",
       " 30,\n",
       " 32,\n",
       " 34,\n",
       " 36,\n",
       " 38,\n",
       " 40,\n",
       " 42,\n",
       " 44,\n",
       " 46,\n",
       " 48,\n",
       " 50,\n",
       " 52,\n",
       " 54,\n",
       " 56,\n",
       " 58,\n",
       " 60,\n",
       " 62,\n",
       " 64,\n",
       " 66,\n",
       " 68,\n",
       " 70,\n",
       " 72,\n",
       " 74,\n",
       " 76,\n",
       " 78,\n",
       " 80,\n",
       " 82,\n",
       " 84,\n",
       " 86,\n",
       " 88,\n",
       " 90,\n",
       " 92,\n",
       " 94,\n",
       " 96,\n",
       " 98]"
      ]
     },
     "execution_count": 6,
     "metadata": {},
     "output_type": "execute_result"
    }
   ],
   "source": [
    "# in-built functions for creating iterables.\n",
    "# count in twos up to 100.\n",
    "list(range(0, 100, 2))"
   ]
  },
  {
   "cell_type": "code",
   "execution_count": 7,
   "id": "9d334162",
   "metadata": {},
   "outputs": [
    {
     "data": {
      "text/plain": [
       "[0, 1, 2, 3, 4, 5, 6, 7, 8, 9, 10, 11, 12, 13, 14, 15, 16, 17, 18, 19]"
      ]
     },
     "execution_count": 7,
     "metadata": {},
     "output_type": "execute_result"
    }
   ],
   "source": [
    "L = list(range(20))\n",
    "L"
   ]
  },
  {
   "cell_type": "code",
   "execution_count": 8,
   "id": "5f567e7a",
   "metadata": {},
   "outputs": [
    {
     "data": {
      "text/plain": [
       "[2, 5, 8]"
      ]
     },
     "execution_count": 8,
     "metadata": {},
     "output_type": "execute_result"
    }
   ],
   "source": [
    "# List slicing.\n",
    "L[1:10:2]\n",
    "L[2:10:3]"
   ]
  },
  {
   "cell_type": "code",
   "execution_count": 9,
   "id": "d50f1a0b",
   "metadata": {},
   "outputs": [
    {
     "data": {
      "text/plain": [
       "[4, 5, 6, 7, 8, 9, 10, 11, 12, 13, 14, 15, 16, 17, 18, 19]"
      ]
     },
     "execution_count": 9,
     "metadata": {},
     "output_type": "execute_result"
    }
   ],
   "source": [
    "L[4:]"
   ]
  },
  {
   "cell_type": "code",
   "execution_count": 10,
   "id": "420b9796",
   "metadata": {},
   "outputs": [
    {
     "data": {
      "text/plain": [
       "[0, 1, 2, 3, 4]"
      ]
     },
     "execution_count": 10,
     "metadata": {},
     "output_type": "execute_result"
    }
   ],
   "source": [
    "L[:5]"
   ]
  },
  {
   "cell_type": "code",
   "execution_count": 11,
   "id": "a263ac4b",
   "metadata": {},
   "outputs": [
    {
     "data": {
      "text/plain": [
       "[5, 6, 7, 8, 9, 10, 11, 12, 13, 14, 15, 16, 17, 18, 19, 0, 1, 2, 3, 4]"
      ]
     },
     "execution_count": 11,
     "metadata": {},
     "output_type": "execute_result"
    }
   ],
   "source": [
    "# Quick way to cycle the list to the left.\n",
    "i =5\n",
    "L[i:] + L[:i]"
   ]
  },
  {
   "cell_type": "code",
   "execution_count": 12,
   "id": "516a3458",
   "metadata": {},
   "outputs": [],
   "source": [
    "# Tuples. -- Immutable.\n",
    "T = (1,2,3,4)"
   ]
  },
  {
   "cell_type": "code",
   "execution_count": 13,
   "id": "8720320d",
   "metadata": {},
   "outputs": [
    {
     "data": {
      "text/plain": [
       "1"
      ]
     },
     "execution_count": 13,
     "metadata": {},
     "output_type": "execute_result"
    }
   ],
   "source": [
    "# select elements.\n",
    "T[0]"
   ]
  },
  {
   "cell_type": "code",
   "execution_count": 14,
   "id": "3f0a5e6e",
   "metadata": {},
   "outputs": [
    {
     "data": {
      "text/plain": [
       "(4,)"
      ]
     },
     "execution_count": 14,
     "metadata": {},
     "output_type": "execute_result"
    }
   ],
   "source": [
    "# Slice elements.\n",
    "T[3:]"
   ]
  },
  {
   "cell_type": "code",
   "execution_count": 15,
   "id": "5e6cf6bf",
   "metadata": {},
   "outputs": [],
   "source": [
    "# can't assign. - would give an error\n",
    "# T[2]= 100"
   ]
  },
  {
   "cell_type": "code",
   "execution_count": 16,
   "id": "2ed2e487",
   "metadata": {},
   "outputs": [
    {
     "data": {
      "text/plain": [
       "(1, 2, 3, 4)"
      ]
     },
     "execution_count": 16,
     "metadata": {},
     "output_type": "execute_result"
    }
   ],
   "source": [
    "# Tuples are created with commas as opposed to round brackets.\n",
    "T = 1,2,3,4\n",
    "T"
   ]
  },
  {
   "cell_type": "code",
   "execution_count": 17,
   "id": "5c502499",
   "metadata": {},
   "outputs": [
    {
     "data": {
      "text/plain": [
       "590899387183067792"
      ]
     },
     "execution_count": 17,
     "metadata": {},
     "output_type": "execute_result"
    }
   ],
   "source": [
    "hash(T)"
   ]
  },
  {
   "cell_type": "code",
   "execution_count": 18,
   "id": "3c23e3a2",
   "metadata": {},
   "outputs": [],
   "source": [
    "# You can use tuples for assignment.\n",
    "a, b = 3, 4"
   ]
  },
  {
   "cell_type": "code",
   "execution_count": 19,
   "id": "21322fe0",
   "metadata": {},
   "outputs": [
    {
     "data": {
      "text/plain": [
       "3"
      ]
     },
     "execution_count": 19,
     "metadata": {},
     "output_type": "execute_result"
    }
   ],
   "source": [
    "a"
   ]
  },
  {
   "cell_type": "code",
   "execution_count": 20,
   "id": "e96590d8",
   "metadata": {},
   "outputs": [
    {
     "data": {
      "text/plain": [
       "4"
      ]
     },
     "execution_count": 20,
     "metadata": {},
     "output_type": "execute_result"
    }
   ],
   "source": [
    "b"
   ]
  },
  {
   "cell_type": "code",
   "execution_count": 21,
   "id": "4e1b7ffd",
   "metadata": {},
   "outputs": [],
   "source": [
    "# trick for swapping two values\n",
    "a, b = b, a"
   ]
  },
  {
   "cell_type": "code",
   "execution_count": 22,
   "id": "43a0b6e3",
   "metadata": {},
   "outputs": [
    {
     "data": {
      "text/plain": [
       "4"
      ]
     },
     "execution_count": 22,
     "metadata": {},
     "output_type": "execute_result"
    }
   ],
   "source": [
    "a"
   ]
  },
  {
   "cell_type": "code",
   "execution_count": 23,
   "id": "c8af7305",
   "metadata": {},
   "outputs": [
    {
     "data": {
      "text/plain": [
       "3"
      ]
     },
     "execution_count": 23,
     "metadata": {},
     "output_type": "execute_result"
    }
   ],
   "source": [
    "b"
   ]
  },
  {
   "cell_type": "code",
   "execution_count": 24,
   "id": "dd0ab203",
   "metadata": {},
   "outputs": [
    {
     "data": {
      "text/plain": [
       "[0, 1, 2, 3, 4, 5, 6, 7, 8, 9]"
      ]
     },
     "execution_count": 24,
     "metadata": {},
     "output_type": "execute_result"
    }
   ],
   "source": [
    "# List of integers\n",
    "L = list(range(10))\n",
    "L"
   ]
  },
  {
   "cell_type": "code",
   "execution_count": 25,
   "id": "60717485",
   "metadata": {},
   "outputs": [
    {
     "data": {
      "text/plain": [
       "[0, 1, 8, 27, 64, 125, 216, 343, 512, 729]"
      ]
     },
     "execution_count": 25,
     "metadata": {},
     "output_type": "execute_result"
    }
   ],
   "source": [
    "# List comprehension.\n",
    "[i**3  for i in L]"
   ]
  },
  {
   "cell_type": "code",
   "execution_count": 26,
   "id": "04d806ab",
   "metadata": {},
   "outputs": [
    {
     "data": {
      "text/plain": [
       "[9, 8, 7, 6, 5, 4, 3, 2, 1, 0]"
      ]
     },
     "execution_count": 26,
     "metadata": {},
     "output_type": "execute_result"
    }
   ],
   "source": [
    "# curve ball.\n",
    "# reverse list.\n",
    "L[::-1]"
   ]
  },
  {
   "cell_type": "markdown",
   "id": "71fbfb78",
   "metadata": {},
   "source": [
    "\n",
    "\n",
    "\n",
    "## Bubble Sort\n",
    "***\n"
   ]
  },
  {
   "cell_type": "code",
   "execution_count": 27,
   "id": "5f74a932",
   "metadata": {},
   "outputs": [],
   "source": [
    "# Import a module from the standard library.\n",
    "import random"
   ]
  },
  {
   "cell_type": "code",
   "execution_count": 28,
   "id": "96c64971",
   "metadata": {},
   "outputs": [],
   "source": [
    "# create list of integers.\n",
    "L = list(range(1,11))"
   ]
  },
  {
   "cell_type": "code",
   "execution_count": 29,
   "id": "0a8ce7ec",
   "metadata": {},
   "outputs": [
    {
     "data": {
      "text/plain": [
       "[1, 2, 3, 4, 5, 6, 7, 8, 9, 10]"
      ]
     },
     "execution_count": 29,
     "metadata": {},
     "output_type": "execute_result"
    }
   ],
   "source": [
    "L"
   ]
  },
  {
   "cell_type": "code",
   "execution_count": 30,
   "id": "03944b59",
   "metadata": {},
   "outputs": [],
   "source": [
    "# shuffle the list.\n",
    "random.shuffle(L)"
   ]
  },
  {
   "cell_type": "code",
   "execution_count": 31,
   "id": "8b683745",
   "metadata": {},
   "outputs": [
    {
     "data": {
      "text/plain": [
       "[1, 2, 6, 7, 5, 10, 3, 9, 4, 8]"
      ]
     },
     "execution_count": 31,
     "metadata": {},
     "output_type": "execute_result"
    }
   ],
   "source": [
    "# the list is shuffled\n",
    "L"
   ]
  },
  {
   "cell_type": "code",
   "execution_count": 32,
   "id": "57a4f0fd",
   "metadata": {},
   "outputs": [],
   "source": [
    "# bubble sort as a function.\n",
    "\n",
    "def bubble_sort(L):\n",
    "    # track number of comparisons\n",
    "    no_comparisons = 0\n",
    "\n",
    "    # bubble every (biggest) element up.\n",
    "    for j in range(len(L)-1):\n",
    "        # keep track of any swaps.\n",
    "        swapped = False\n",
    "        # compare all elements that are side by side.\n",
    "        for i in range(len(L)-1 -j):\n",
    "            # compare ith element with the (i+1).\n",
    "            if L[i] > L[i+1]:\n",
    "                # swap the elements.\n",
    "                L[i], L[i+1] = L[i+1], L[i]\n",
    "                # keep track of the swap.\n",
    "                swapped = True\n",
    "            # add a comparison.\n",
    "            no_comparisons = no_comparisons + 1\n",
    "        # quit if no swaps were made\n",
    "        if not swapped:\n",
    "            break\n",
    "    # Return number of comparisons made\n",
    "    return no_comparisons"
   ]
  },
  {
   "cell_type": "code",
   "execution_count": 33,
   "id": "beb55845",
   "metadata": {},
   "outputs": [
    {
     "data": {
      "text/plain": [
       "[2, 6, 7, 3, 10, 9, 1, 8, 4, 5]"
      ]
     },
     "execution_count": 33,
     "metadata": {},
     "output_type": "execute_result"
    }
   ],
   "source": [
    "# Create a list.\n",
    "L = list(range(1,11))\n",
    "\n",
    "# Shuffle it.\n",
    "random.shuffle(L)\n",
    "\n",
    "# Look at it.\n",
    "L"
   ]
  },
  {
   "cell_type": "code",
   "execution_count": 34,
   "id": "f5fd7f9f",
   "metadata": {},
   "outputs": [
    {
     "data": {
      "text/plain": [
       "42"
      ]
     },
     "execution_count": 34,
     "metadata": {},
     "output_type": "execute_result"
    }
   ],
   "source": [
    "# function works on L in place.\n",
    "bubble_sort(L)"
   ]
  },
  {
   "cell_type": "code",
   "execution_count": 35,
   "id": "b2e9a12e",
   "metadata": {},
   "outputs": [
    {
     "data": {
      "text/plain": [
       "[1, 2, 3, 4, 5, 6, 7, 8, 9, 10]"
      ]
     },
     "execution_count": 35,
     "metadata": {},
     "output_type": "execute_result"
    }
   ],
   "source": [
    "L"
   ]
  },
  {
   "cell_type": "code",
   "execution_count": 36,
   "id": "16f14844",
   "metadata": {},
   "outputs": [
    {
     "data": {
      "text/plain": [
       "9"
      ]
     },
     "execution_count": 36,
     "metadata": {},
     "output_type": "execute_result"
    }
   ],
   "source": [
    "# Once the list is sorted - bubble sort is O(n).\n",
    "bubble_sort(L)"
   ]
  },
  {
   "cell_type": "code",
   "execution_count": 37,
   "id": "448bd43b",
   "metadata": {},
   "outputs": [
    {
     "data": {
      "text/plain": [
       "[10, 9, 8, 7, 6, 5, 4, 3, 2, 1]"
      ]
     },
     "execution_count": 37,
     "metadata": {},
     "output_type": "execute_result"
    }
   ],
   "source": [
    "# The worst case for bubble sort.\n",
    "L[::-1]"
   ]
  },
  {
   "cell_type": "code",
   "execution_count": 38,
   "id": "49ec2ba7",
   "metadata": {},
   "outputs": [
    {
     "data": {
      "text/plain": [
       "45"
      ]
     },
     "execution_count": 38,
     "metadata": {},
     "output_type": "execute_result"
    }
   ],
   "source": [
    "# Still O(n^2)\n",
    "bubble_sort(L[::-1])"
   ]
  },
  {
   "cell_type": "code",
   "execution_count": 39,
   "id": "af563ca2",
   "metadata": {},
   "outputs": [
    {
     "data": {
      "text/plain": [
       "45"
      ]
     },
     "execution_count": 39,
     "metadata": {},
     "output_type": "execute_result"
    }
   ],
   "source": [
    "sum(range(10))"
   ]
  },
  {
   "cell_type": "markdown",
   "id": "60865c53",
   "metadata": {},
   "source": [
    "## Heap Sort\n",
    "#### Transplanted from wikipedia\n",
    "***"
   ]
  },
  {
   "cell_type": "code",
   "execution_count": 40,
   "id": "3a35180a",
   "metadata": {},
   "outputs": [],
   "source": [
    "def siftDown(L, parent, end):\n",
    "    \"\"\"L[parent:end+1] should almost be a max heap.\n",
    "        siftDown repairs it so that it is one.\"\"\"\n",
    "    \n",
    "    # Keep track of the number of comparisons.\n",
    "    no_comparisons = 0\n",
    "    \n",
    "    # While parent is actually a parent (has at least a left child).\n",
    "    while 2 * parent + 1 <= end:\n",
    "        # The indices of the children of parent.\n",
    "        lchild = 2 * parent + 1\n",
    "        rchild = 2 * parent + 2\n",
    "        \n",
    "        \n",
    "        # Assume parent is larger than the children.\n",
    "        swap = parent\n",
    "        # Is the parent smaller than the left child?\n",
    "        if L[swap] < L[lchild]:\n",
    "            # Then swap is set to index of left child.\n",
    "            swap = lchild\n",
    "            # Increment no_comparisons.\n",
    "            no_comparisons = no_comparisons + 1\n",
    "            \n",
    "        # Check if right child exists and is smaller than L[swap].\n",
    "        if rchild +1 <= end and L[swap] < L[rchild]:\n",
    "            # Then swap is set to index of right child.\n",
    "            swap = rchild\n",
    "            # Increment no_comparisons.\n",
    "            no_comparisons = no_comparisons + 1\n",
    "            \n",
    "        # We have a max heap if the parent is bigger thaan the children.\n",
    "        if swap == parent:\n",
    "            break\n",
    "        else:\n",
    "            # Swap the parent with the bigger child.\n",
    "            L[parent], L[swap] = L[swap], L[parent]\n",
    "            # Set parent to bugger child's index\n",
    "            parent = swap\n",
    "    # Return number of comparisons.\n",
    "    return no_comparisons"
   ]
  },
  {
   "cell_type": "code",
   "execution_count": 41,
   "id": "c3880c1f",
   "metadata": {},
   "outputs": [],
   "source": [
    "def heapsort(L):\n",
    "    \"\"\"Sorts the list L in-place using Heap Sort.\"\"\"\n",
    "    \n",
    "    # Keep track of the number of comparisons.\n",
    "    no_comparisons = 0\n",
    "    \n",
    "    # Turn L into a max heap.\n",
    "    # Index of the last element.\n",
    "    last_element = len(L) - 1\n",
    "    \n",
    "    # Find the last parent.\n",
    "    last_parent = (last_element - 1) //2\n",
    "    # Loop backwards through all parents.\n",
    "    for parent in range(last_parent, -1, -1):\n",
    "        # Sift down.\n",
    "        no_comparisons = no_comparisons + siftDown(L, parent, last_element)\n",
    "        \n",
    "    # Segregate the list L into two parts:\n",
    "    #    1. L[:end] is a max heap.\n",
    "    #    2. Each element beyond end is greater than everything before it.\n",
    "    # While there are still elements in the heap.\n",
    "    for end in range(last_element, 0, -1):\n",
    "        # Swap the element at index 0 with the element at index end.\n",
    "        L[0], L[end] = L[end], L[0]\n",
    "        # Fix the heap - the root is currently out of place.\n",
    "        no_comparisons = no_comparisons + siftDown(L, 0, end - 1)\n",
    "        \n",
    "    # Return the number of comparisons\n",
    "    return no_comparisons"
   ]
  },
  {
   "cell_type": "code",
   "execution_count": 42,
   "id": "178d44bc",
   "metadata": {},
   "outputs": [
    {
     "data": {
      "text/plain": [
       "[19, 100, 36, 25, 3, 17, 7, 2, 1]"
      ]
     },
     "execution_count": 42,
     "metadata": {},
     "output_type": "execute_result"
    }
   ],
   "source": [
    "# Example list from wikipedia diagram.\n",
    "L = [19, 100, 36, 25, 3, 17, 7, 2, 1]\n",
    "L"
   ]
  },
  {
   "cell_type": "code",
   "execution_count": 43,
   "id": "ca65adbe",
   "metadata": {},
   "outputs": [
    {
     "data": {
      "text/plain": [
       "[1, 2, 3, 7, 17, 19, 25, 36, 100]"
      ]
     },
     "execution_count": 43,
     "metadata": {},
     "output_type": "execute_result"
    }
   ],
   "source": [
    "# Show heap sort working.\n",
    "heapsort(L)\n",
    "L"
   ]
  },
  {
   "cell_type": "markdown",
   "id": "74975587",
   "metadata": {},
   "source": [
    "<br>\n",
    "\n",
    "## Comparing Algorithms\n",
    "***"
   ]
  },
  {
   "cell_type": "code",
   "execution_count": 44,
   "id": "c4083626",
   "metadata": {},
   "outputs": [
    {
     "data": {
      "text/plain": [
       "([1, 2, 3, 7, 17, 19, 25, 36, 100], 13)"
      ]
     },
     "execution_count": 44,
     "metadata": {},
     "output_type": "execute_result"
    }
   ],
   "source": [
    "# Perform heap sort, show number of comparisons.\n",
    "L = [19, 100, 36, 25, 3, 17, 7, 2, 1]\n",
    "no_comparisons = heapsort(L)\n",
    "L, no_comparisons"
   ]
  },
  {
   "cell_type": "code",
   "execution_count": 45,
   "id": "f481950a",
   "metadata": {},
   "outputs": [
    {
     "data": {
      "text/plain": [
       "([1, 2, 3, 7, 17, 19, 25, 36, 100], 36)"
      ]
     },
     "execution_count": 45,
     "metadata": {},
     "output_type": "execute_result"
    }
   ],
   "source": [
    "# Perform bubble sort, show number of comparisons.\n",
    "L = [19, 100, 36, 25, 3, 17, 7, 2, 1]\n",
    "no_comparisons = bubble_sort(L)\n",
    "L, no_comparisons"
   ]
  },
  {
   "cell_type": "code",
   "execution_count": 46,
   "id": "c4969ded",
   "metadata": {},
   "outputs": [
    {
     "name": "stdout",
     "output_type": "stream",
     "text": [
      "0, 1, 2, 3, 4|4|4\n",
      "0, 1, 2, 4, 3|7|4\n",
      "0, 1, 3, 2, 4|7|5\n",
      "0, 1, 3, 4, 2|9|5\n",
      "0, 1, 4, 2, 3|7|5\n",
      "0, 1, 4, 3, 2|9|6\n",
      "0, 2, 1, 3, 4|7|4\n",
      "0, 2, 1, 4, 3|7|4\n",
      "0, 2, 3, 1, 4|9|4\n",
      "0, 2, 3, 4, 1|10|6\n",
      "0, 2, 4, 1, 3|9|4\n",
      "0, 2, 4, 3, 1|10|7\n",
      "0, 3, 1, 2, 4|7|3\n",
      "0, 3, 1, 4, 2|9|5\n",
      "0, 3, 2, 1, 4|9|3\n",
      "0, 3, 2, 4, 1|10|5\n",
      "0, 3, 4, 1, 2|9|5\n",
      "0, 3, 4, 2, 1|10|6\n",
      "0, 4, 1, 2, 3|7|3\n",
      "0, 4, 1, 3, 2|9|4\n",
      "0, 4, 2, 1, 3|9|3\n",
      "0, 4, 2, 3, 1|10|4\n",
      "0, 4, 3, 1, 2|9|4\n",
      "0, 4, 3, 2, 1|10|5\n",
      "1, 0, 2, 3, 4|7|3\n",
      "1, 0, 2, 4, 3|7|3\n",
      "1, 0, 3, 2, 4|7|4\n",
      "1, 0, 3, 4, 2|9|4\n",
      "1, 0, 4, 2, 3|7|4\n",
      "1, 0, 4, 3, 2|9|5\n",
      "1, 2, 0, 3, 4|9|5\n",
      "1, 2, 0, 4, 3|9|5\n",
      "1, 2, 3, 0, 4|10|3\n",
      "1, 2, 3, 4, 0|10|7\n",
      "1, 2, 4, 0, 3|10|3\n",
      "1, 2, 4, 3, 0|10|6\n",
      "1, 3, 0, 2, 4|9|4\n",
      "1, 3, 0, 4, 2|9|6\n",
      "1, 3, 2, 0, 4|10|2\n",
      "1, 3, 2, 4, 0|10|6\n",
      "1, 3, 4, 0, 2|10|4\n",
      "1, 3, 4, 2, 0|10|5\n",
      "1, 4, 0, 2, 3|9|4\n",
      "1, 4, 0, 3, 2|9|5\n",
      "1, 4, 2, 0, 3|10|2\n",
      "1, 4, 2, 3, 0|10|5\n",
      "1, 4, 3, 0, 2|10|3\n",
      "1, 4, 3, 2, 0|10|6\n",
      "2, 0, 1, 3, 4|7|3\n",
      "2, 0, 1, 4, 3|7|3\n",
      "2, 0, 3, 1, 4|9|3\n",
      "2, 0, 3, 4, 1|10|5\n",
      "2, 0, 4, 1, 3|9|3\n",
      "2, 0, 4, 3, 1|10|5\n",
      "2, 1, 0, 3, 4|9|4\n",
      "2, 1, 0, 4, 3|9|4\n",
      "2, 1, 3, 0, 4|10|2\n",
      "2, 1, 3, 4, 0|10|6\n",
      "2, 1, 4, 0, 3|10|2\n",
      "2, 1, 4, 3, 0|10|6\n",
      "2, 3, 0, 1, 4|9|3\n",
      "2, 3, 0, 4, 1|10|7\n",
      "2, 3, 1, 0, 4|10|2\n",
      "2, 3, 1, 4, 0|10|6\n",
      "2, 3, 4, 0, 1|10|4\n",
      "2, 3, 4, 1, 0|10|5\n",
      "2, 4, 0, 1, 3|9|3\n",
      "2, 4, 0, 3, 1|10|6\n",
      "2, 4, 1, 0, 3|10|2\n",
      "2, 4, 1, 3, 0|10|5\n",
      "2, 4, 3, 0, 1|10|4\n",
      "2, 4, 3, 1, 0|10|5\n",
      "3, 0, 1, 2, 4|7|2\n",
      "3, 0, 1, 4, 2|9|4\n",
      "3, 0, 2, 1, 4|9|2\n",
      "3, 0, 2, 4, 1|10|4\n",
      "3, 0, 4, 1, 2|9|4\n",
      "3, 0, 4, 2, 1|10|5\n",
      "3, 1, 0, 2, 4|9|3\n",
      "3, 1, 0, 4, 2|9|5\n",
      "3, 1, 2, 0, 4|10|1\n",
      "3, 1, 2, 4, 0|10|5\n",
      "3, 1, 4, 0, 2|10|3\n",
      "3, 1, 4, 2, 0|10|6\n",
      "3, 2, 0, 1, 4|9|2\n",
      "3, 2, 0, 4, 1|10|6\n",
      "3, 2, 1, 0, 4|10|1\n",
      "3, 2, 1, 4, 0|10|5\n",
      "3, 2, 4, 0, 1|10|4\n",
      "3, 2, 4, 1, 0|10|5\n",
      "3, 4, 0, 1, 2|9|4\n",
      "3, 4, 0, 2, 1|10|5\n",
      "3, 4, 1, 0, 2|10|3\n",
      "3, 4, 1, 2, 0|10|4\n",
      "3, 4, 2, 0, 1|10|3\n",
      "3, 4, 2, 1, 0|10|4\n",
      "4, 0, 1, 2, 3|7|2\n",
      "4, 0, 1, 3, 2|9|3\n",
      "4, 0, 2, 1, 3|9|2\n",
      "4, 0, 2, 3, 1|10|3\n",
      "4, 0, 3, 1, 2|9|3\n",
      "4, 0, 3, 2, 1|10|4\n",
      "4, 1, 0, 2, 3|9|3\n",
      "4, 1, 0, 3, 2|9|4\n",
      "4, 1, 2, 0, 3|10|1\n",
      "4, 1, 2, 3, 0|10|4\n",
      "4, 1, 3, 0, 2|10|2\n",
      "4, 1, 3, 2, 0|10|5\n",
      "4, 2, 0, 1, 3|9|2\n",
      "4, 2, 0, 3, 1|10|5\n",
      "4, 2, 1, 0, 3|10|1\n",
      "4, 2, 1, 3, 0|10|4\n",
      "4, 2, 3, 0, 1|10|3\n",
      "4, 2, 3, 1, 0|10|4\n",
      "4, 3, 0, 1, 2|9|3\n",
      "4, 3, 0, 2, 1|10|4\n",
      "4, 3, 1, 0, 2|10|2\n",
      "4, 3, 1, 2, 0|10|3\n",
      "4, 3, 2, 0, 1|10|2\n",
      "4, 3, 2, 1, 0|10|3\n"
     ]
    }
   ],
   "source": [
    "# Module full of combinatorial functions.\n",
    "import itertools\n",
    "\n",
    "# Length of example list.\n",
    "n = 5\n",
    "\n",
    "# Loop through all permutations of the list of integers from 0 to n.\n",
    "for perm in itertools.permutations(range(n)):\n",
    "    L = list(perm)\n",
    "    bubb_comp = bubble_sort(L)\n",
    "    L = list(perm)\n",
    "    heap_comp = heapsort(L)\n",
    "    print(f'{str(perm)[1:-1]}|{bubb_comp}|{heap_comp}')"
   ]
  },
  {
   "cell_type": "markdown",
   "id": "fff35d07",
   "metadata": {},
   "source": [
    "Using pandas:"
   ]
  },
  {
   "cell_type": "code",
   "execution_count": 47,
   "id": "5a358a5a",
   "metadata": {},
   "outputs": [],
   "source": [
    "# Like Excel for Python\n",
    "import pandas as pd"
   ]
  },
  {
   "cell_type": "code",
   "execution_count": 48,
   "id": "0f6400e0",
   "metadata": {},
   "outputs": [],
   "source": [
    "# Length of example list.\n",
    "n = 5\n",
    "\n",
    "results = [[str(perm)[1:-1],bubble_sort(list(perm)), heapsort(list(perm))] for perm in itertools.permutations(range(n))]"
   ]
  },
  {
   "cell_type": "code",
   "execution_count": 49,
   "id": "63695d41",
   "metadata": {},
   "outputs": [
    {
     "data": {
      "text/plain": [
       "[['0, 1, 2, 3, 4', 4, 4],\n",
       " ['0, 1, 2, 4, 3', 7, 4],\n",
       " ['0, 1, 3, 2, 4', 7, 5],\n",
       " ['0, 1, 3, 4, 2', 9, 5],\n",
       " ['0, 1, 4, 2, 3', 7, 5],\n",
       " ['0, 1, 4, 3, 2', 9, 6],\n",
       " ['0, 2, 1, 3, 4', 7, 4],\n",
       " ['0, 2, 1, 4, 3', 7, 4],\n",
       " ['0, 2, 3, 1, 4', 9, 4],\n",
       " ['0, 2, 3, 4, 1', 10, 6],\n",
       " ['0, 2, 4, 1, 3', 9, 4],\n",
       " ['0, 2, 4, 3, 1', 10, 7],\n",
       " ['0, 3, 1, 2, 4', 7, 3],\n",
       " ['0, 3, 1, 4, 2', 9, 5],\n",
       " ['0, 3, 2, 1, 4', 9, 3],\n",
       " ['0, 3, 2, 4, 1', 10, 5],\n",
       " ['0, 3, 4, 1, 2', 9, 5],\n",
       " ['0, 3, 4, 2, 1', 10, 6],\n",
       " ['0, 4, 1, 2, 3', 7, 3],\n",
       " ['0, 4, 1, 3, 2', 9, 4],\n",
       " ['0, 4, 2, 1, 3', 9, 3],\n",
       " ['0, 4, 2, 3, 1', 10, 4],\n",
       " ['0, 4, 3, 1, 2', 9, 4],\n",
       " ['0, 4, 3, 2, 1', 10, 5],\n",
       " ['1, 0, 2, 3, 4', 7, 3],\n",
       " ['1, 0, 2, 4, 3', 7, 3],\n",
       " ['1, 0, 3, 2, 4', 7, 4],\n",
       " ['1, 0, 3, 4, 2', 9, 4],\n",
       " ['1, 0, 4, 2, 3', 7, 4],\n",
       " ['1, 0, 4, 3, 2', 9, 5],\n",
       " ['1, 2, 0, 3, 4', 9, 5],\n",
       " ['1, 2, 0, 4, 3', 9, 5],\n",
       " ['1, 2, 3, 0, 4', 10, 3],\n",
       " ['1, 2, 3, 4, 0', 10, 7],\n",
       " ['1, 2, 4, 0, 3', 10, 3],\n",
       " ['1, 2, 4, 3, 0', 10, 6],\n",
       " ['1, 3, 0, 2, 4', 9, 4],\n",
       " ['1, 3, 0, 4, 2', 9, 6],\n",
       " ['1, 3, 2, 0, 4', 10, 2],\n",
       " ['1, 3, 2, 4, 0', 10, 6],\n",
       " ['1, 3, 4, 0, 2', 10, 4],\n",
       " ['1, 3, 4, 2, 0', 10, 5],\n",
       " ['1, 4, 0, 2, 3', 9, 4],\n",
       " ['1, 4, 0, 3, 2', 9, 5],\n",
       " ['1, 4, 2, 0, 3', 10, 2],\n",
       " ['1, 4, 2, 3, 0', 10, 5],\n",
       " ['1, 4, 3, 0, 2', 10, 3],\n",
       " ['1, 4, 3, 2, 0', 10, 6],\n",
       " ['2, 0, 1, 3, 4', 7, 3],\n",
       " ['2, 0, 1, 4, 3', 7, 3],\n",
       " ['2, 0, 3, 1, 4', 9, 3],\n",
       " ['2, 0, 3, 4, 1', 10, 5],\n",
       " ['2, 0, 4, 1, 3', 9, 3],\n",
       " ['2, 0, 4, 3, 1', 10, 5],\n",
       " ['2, 1, 0, 3, 4', 9, 4],\n",
       " ['2, 1, 0, 4, 3', 9, 4],\n",
       " ['2, 1, 3, 0, 4', 10, 2],\n",
       " ['2, 1, 3, 4, 0', 10, 6],\n",
       " ['2, 1, 4, 0, 3', 10, 2],\n",
       " ['2, 1, 4, 3, 0', 10, 6],\n",
       " ['2, 3, 0, 1, 4', 9, 3],\n",
       " ['2, 3, 0, 4, 1', 10, 7],\n",
       " ['2, 3, 1, 0, 4', 10, 2],\n",
       " ['2, 3, 1, 4, 0', 10, 6],\n",
       " ['2, 3, 4, 0, 1', 10, 4],\n",
       " ['2, 3, 4, 1, 0', 10, 5],\n",
       " ['2, 4, 0, 1, 3', 9, 3],\n",
       " ['2, 4, 0, 3, 1', 10, 6],\n",
       " ['2, 4, 1, 0, 3', 10, 2],\n",
       " ['2, 4, 1, 3, 0', 10, 5],\n",
       " ['2, 4, 3, 0, 1', 10, 4],\n",
       " ['2, 4, 3, 1, 0', 10, 5],\n",
       " ['3, 0, 1, 2, 4', 7, 2],\n",
       " ['3, 0, 1, 4, 2', 9, 4],\n",
       " ['3, 0, 2, 1, 4', 9, 2],\n",
       " ['3, 0, 2, 4, 1', 10, 4],\n",
       " ['3, 0, 4, 1, 2', 9, 4],\n",
       " ['3, 0, 4, 2, 1', 10, 5],\n",
       " ['3, 1, 0, 2, 4', 9, 3],\n",
       " ['3, 1, 0, 4, 2', 9, 5],\n",
       " ['3, 1, 2, 0, 4', 10, 1],\n",
       " ['3, 1, 2, 4, 0', 10, 5],\n",
       " ['3, 1, 4, 0, 2', 10, 3],\n",
       " ['3, 1, 4, 2, 0', 10, 6],\n",
       " ['3, 2, 0, 1, 4', 9, 2],\n",
       " ['3, 2, 0, 4, 1', 10, 6],\n",
       " ['3, 2, 1, 0, 4', 10, 1],\n",
       " ['3, 2, 1, 4, 0', 10, 5],\n",
       " ['3, 2, 4, 0, 1', 10, 4],\n",
       " ['3, 2, 4, 1, 0', 10, 5],\n",
       " ['3, 4, 0, 1, 2', 9, 4],\n",
       " ['3, 4, 0, 2, 1', 10, 5],\n",
       " ['3, 4, 1, 0, 2', 10, 3],\n",
       " ['3, 4, 1, 2, 0', 10, 4],\n",
       " ['3, 4, 2, 0, 1', 10, 3],\n",
       " ['3, 4, 2, 1, 0', 10, 4],\n",
       " ['4, 0, 1, 2, 3', 7, 2],\n",
       " ['4, 0, 1, 3, 2', 9, 3],\n",
       " ['4, 0, 2, 1, 3', 9, 2],\n",
       " ['4, 0, 2, 3, 1', 10, 3],\n",
       " ['4, 0, 3, 1, 2', 9, 3],\n",
       " ['4, 0, 3, 2, 1', 10, 4],\n",
       " ['4, 1, 0, 2, 3', 9, 3],\n",
       " ['4, 1, 0, 3, 2', 9, 4],\n",
       " ['4, 1, 2, 0, 3', 10, 1],\n",
       " ['4, 1, 2, 3, 0', 10, 4],\n",
       " ['4, 1, 3, 0, 2', 10, 2],\n",
       " ['4, 1, 3, 2, 0', 10, 5],\n",
       " ['4, 2, 0, 1, 3', 9, 2],\n",
       " ['4, 2, 0, 3, 1', 10, 5],\n",
       " ['4, 2, 1, 0, 3', 10, 1],\n",
       " ['4, 2, 1, 3, 0', 10, 4],\n",
       " ['4, 2, 3, 0, 1', 10, 3],\n",
       " ['4, 2, 3, 1, 0', 10, 4],\n",
       " ['4, 3, 0, 1, 2', 9, 3],\n",
       " ['4, 3, 0, 2, 1', 10, 4],\n",
       " ['4, 3, 1, 0, 2', 10, 2],\n",
       " ['4, 3, 1, 2, 0', 10, 3],\n",
       " ['4, 3, 2, 0, 1', 10, 2],\n",
       " ['4, 3, 2, 1, 0', 10, 3]]"
      ]
     },
     "execution_count": 49,
     "metadata": {},
     "output_type": "execute_result"
    }
   ],
   "source": [
    "# Peak at the results.\n",
    "results"
   ]
  },
  {
   "cell_type": "code",
   "execution_count": 50,
   "id": "61996bd1",
   "metadata": {},
   "outputs": [
    {
     "data": {
      "text/html": [
       "<div>\n",
       "<style scoped>\n",
       "    .dataframe tbody tr th:only-of-type {\n",
       "        vertical-align: middle;\n",
       "    }\n",
       "\n",
       "    .dataframe tbody tr th {\n",
       "        vertical-align: top;\n",
       "    }\n",
       "\n",
       "    .dataframe thead th {\n",
       "        text-align: right;\n",
       "    }\n",
       "</style>\n",
       "<table border=\"1\" class=\"dataframe\">\n",
       "  <thead>\n",
       "    <tr style=\"text-align: right;\">\n",
       "      <th></th>\n",
       "      <th>list</th>\n",
       "      <th>bubble</th>\n",
       "      <th>heap</th>\n",
       "    </tr>\n",
       "  </thead>\n",
       "  <tbody>\n",
       "    <tr>\n",
       "      <th>0</th>\n",
       "      <td>0, 1, 2, 3, 4</td>\n",
       "      <td>4</td>\n",
       "      <td>4</td>\n",
       "    </tr>\n",
       "    <tr>\n",
       "      <th>1</th>\n",
       "      <td>0, 1, 2, 4, 3</td>\n",
       "      <td>7</td>\n",
       "      <td>4</td>\n",
       "    </tr>\n",
       "    <tr>\n",
       "      <th>2</th>\n",
       "      <td>0, 1, 3, 2, 4</td>\n",
       "      <td>7</td>\n",
       "      <td>5</td>\n",
       "    </tr>\n",
       "    <tr>\n",
       "      <th>3</th>\n",
       "      <td>0, 1, 3, 4, 2</td>\n",
       "      <td>9</td>\n",
       "      <td>5</td>\n",
       "    </tr>\n",
       "    <tr>\n",
       "      <th>4</th>\n",
       "      <td>0, 1, 4, 2, 3</td>\n",
       "      <td>7</td>\n",
       "      <td>5</td>\n",
       "    </tr>\n",
       "    <tr>\n",
       "      <th>...</th>\n",
       "      <td>...</td>\n",
       "      <td>...</td>\n",
       "      <td>...</td>\n",
       "    </tr>\n",
       "    <tr>\n",
       "      <th>115</th>\n",
       "      <td>4, 3, 0, 2, 1</td>\n",
       "      <td>10</td>\n",
       "      <td>4</td>\n",
       "    </tr>\n",
       "    <tr>\n",
       "      <th>116</th>\n",
       "      <td>4, 3, 1, 0, 2</td>\n",
       "      <td>10</td>\n",
       "      <td>2</td>\n",
       "    </tr>\n",
       "    <tr>\n",
       "      <th>117</th>\n",
       "      <td>4, 3, 1, 2, 0</td>\n",
       "      <td>10</td>\n",
       "      <td>3</td>\n",
       "    </tr>\n",
       "    <tr>\n",
       "      <th>118</th>\n",
       "      <td>4, 3, 2, 0, 1</td>\n",
       "      <td>10</td>\n",
       "      <td>2</td>\n",
       "    </tr>\n",
       "    <tr>\n",
       "      <th>119</th>\n",
       "      <td>4, 3, 2, 1, 0</td>\n",
       "      <td>10</td>\n",
       "      <td>3</td>\n",
       "    </tr>\n",
       "  </tbody>\n",
       "</table>\n",
       "<p>120 rows × 3 columns</p>\n",
       "</div>"
      ],
      "text/plain": [
       "              list  bubble  heap\n",
       "0    0, 1, 2, 3, 4       4     4\n",
       "1    0, 1, 2, 4, 3       7     4\n",
       "2    0, 1, 3, 2, 4       7     5\n",
       "3    0, 1, 3, 4, 2       9     5\n",
       "4    0, 1, 4, 2, 3       7     5\n",
       "..             ...     ...   ...\n",
       "115  4, 3, 0, 2, 1      10     4\n",
       "116  4, 3, 1, 0, 2      10     2\n",
       "117  4, 3, 1, 2, 0      10     3\n",
       "118  4, 3, 2, 0, 1      10     2\n",
       "119  4, 3, 2, 1, 0      10     3\n",
       "\n",
       "[120 rows x 3 columns]"
      ]
     },
     "execution_count": 50,
     "metadata": {},
     "output_type": "execute_result"
    }
   ],
   "source": [
    "df = pd.DataFrame(results,columns=['list', 'bubble', 'heap'])\n",
    "df"
   ]
  },
  {
   "cell_type": "code",
   "execution_count": 51,
   "id": "94c7eadd",
   "metadata": {},
   "outputs": [
    {
     "data": {
      "text/html": [
       "<div>\n",
       "<style scoped>\n",
       "    .dataframe tbody tr th:only-of-type {\n",
       "        vertical-align: middle;\n",
       "    }\n",
       "\n",
       "    .dataframe tbody tr th {\n",
       "        vertical-align: top;\n",
       "    }\n",
       "\n",
       "    .dataframe thead th {\n",
       "        text-align: right;\n",
       "    }\n",
       "</style>\n",
       "<table border=\"1\" class=\"dataframe\">\n",
       "  <thead>\n",
       "    <tr style=\"text-align: right;\">\n",
       "      <th></th>\n",
       "      <th>bubble</th>\n",
       "      <th>heap</th>\n",
       "    </tr>\n",
       "  </thead>\n",
       "  <tbody>\n",
       "    <tr>\n",
       "      <th>count</th>\n",
       "      <td>120.000000</td>\n",
       "      <td>120.000000</td>\n",
       "    </tr>\n",
       "    <tr>\n",
       "      <th>mean</th>\n",
       "      <td>9.258333</td>\n",
       "      <td>3.933333</td>\n",
       "    </tr>\n",
       "    <tr>\n",
       "      <th>std</th>\n",
       "      <td>1.096180</td>\n",
       "      <td>1.382564</td>\n",
       "    </tr>\n",
       "    <tr>\n",
       "      <th>min</th>\n",
       "      <td>4.000000</td>\n",
       "      <td>1.000000</td>\n",
       "    </tr>\n",
       "    <tr>\n",
       "      <th>25%</th>\n",
       "      <td>9.000000</td>\n",
       "      <td>3.000000</td>\n",
       "    </tr>\n",
       "    <tr>\n",
       "      <th>50%</th>\n",
       "      <td>10.000000</td>\n",
       "      <td>4.000000</td>\n",
       "    </tr>\n",
       "    <tr>\n",
       "      <th>75%</th>\n",
       "      <td>10.000000</td>\n",
       "      <td>5.000000</td>\n",
       "    </tr>\n",
       "    <tr>\n",
       "      <th>max</th>\n",
       "      <td>10.000000</td>\n",
       "      <td>7.000000</td>\n",
       "    </tr>\n",
       "  </tbody>\n",
       "</table>\n",
       "</div>"
      ],
      "text/plain": [
       "           bubble        heap\n",
       "count  120.000000  120.000000\n",
       "mean     9.258333    3.933333\n",
       "std      1.096180    1.382564\n",
       "min      4.000000    1.000000\n",
       "25%      9.000000    3.000000\n",
       "50%     10.000000    4.000000\n",
       "75%     10.000000    5.000000\n",
       "max     10.000000    7.000000"
      ]
     },
     "execution_count": 51,
     "metadata": {},
     "output_type": "execute_result"
    }
   ],
   "source": [
    "df.describe()"
   ]
  },
  {
   "cell_type": "code",
   "execution_count": null,
   "id": "ccdc0984",
   "metadata": {},
   "outputs": [],
   "source": []
  },
  {
   "cell_type": "code",
   "execution_count": 52,
   "id": "9bf20beb",
   "metadata": {},
   "outputs": [
    {
     "name": "stdout",
     "output_type": "stream",
     "text": [
      "(0, 1, 2, 3, 4)  -> [0, 2, 1, 4, 3]\n",
      "(0, 1, 2, 4, 3)  -> [0, 2, 1, 3, 4]\n",
      "(0, 1, 3, 2, 4)  -> [0, 1, 2, 4, 3]\n",
      "(0, 1, 3, 4, 2)  -> [0, 2, 1, 3, 4]\n",
      "(0, 1, 4, 2, 3)  -> [0, 1, 2, 3, 4]\n",
      "(0, 1, 4, 3, 2)  -> [0, 1, 2, 3, 4]\n",
      "(0, 2, 1, 3, 4)  -> [0, 1, 2, 4, 3]\n",
      "(0, 2, 1, 4, 3)  -> [0, 1, 2, 3, 4]\n",
      "(0, 2, 3, 1, 4)  -> [0, 1, 2, 4, 3]\n",
      "(0, 2, 3, 4, 1)  -> [0, 1, 2, 3, 4]\n",
      "(0, 2, 4, 1, 3)  -> [0, 1, 2, 3, 4]\n",
      "(0, 2, 4, 3, 1)  -> [0, 1, 2, 3, 4]\n",
      "(0, 3, 1, 2, 4)  -> [0, 1, 2, 4, 3]\n",
      "(0, 3, 1, 4, 2)  -> [0, 1, 2, 3, 4]\n",
      "(0, 3, 2, 1, 4)  -> [0, 2, 1, 4, 3]\n",
      "(0, 3, 2, 4, 1)  -> [0, 2, 1, 3, 4]\n",
      "(0, 3, 4, 1, 2)  -> [0, 1, 2, 3, 4]\n",
      "(0, 3, 4, 2, 1)  -> [0, 1, 2, 3, 4]\n",
      "(0, 4, 1, 2, 3)  -> [0, 1, 2, 3, 4]\n",
      "(0, 4, 1, 3, 2)  -> [0, 1, 2, 3, 4]\n",
      "(0, 4, 2, 1, 3)  -> [0, 2, 1, 3, 4]\n",
      "(0, 4, 2, 3, 1)  -> [0, 2, 1, 3, 4]\n",
      "(0, 4, 3, 1, 2)  -> [0, 2, 1, 3, 4]\n",
      "(0, 4, 3, 2, 1)  -> [0, 1, 2, 3, 4]\n",
      "(1, 0, 2, 3, 4)  -> [0, 2, 1, 4, 3]\n",
      "(1, 0, 2, 4, 3)  -> [0, 2, 1, 3, 4]\n",
      "(1, 0, 3, 2, 4)  -> [0, 1, 2, 4, 3]\n",
      "(1, 0, 3, 4, 2)  -> [0, 2, 1, 3, 4]\n",
      "(1, 0, 4, 2, 3)  -> [0, 1, 2, 3, 4]\n",
      "(1, 0, 4, 3, 2)  -> [0, 1, 2, 3, 4]\n",
      "(1, 2, 0, 3, 4)  -> [0, 1, 2, 4, 3]\n",
      "(1, 2, 0, 4, 3)  -> [0, 1, 2, 3, 4]\n",
      "(1, 2, 3, 0, 4)  -> [0, 1, 2, 4, 3]\n",
      "(1, 2, 3, 4, 0)  -> [0, 1, 2, 3, 4]\n",
      "(1, 2, 4, 0, 3)  -> [0, 1, 2, 3, 4]\n",
      "(1, 2, 4, 3, 0)  -> [0, 1, 2, 3, 4]\n",
      "(1, 3, 0, 2, 4)  -> [0, 1, 2, 4, 3]\n",
      "(1, 3, 0, 4, 2)  -> [0, 1, 2, 3, 4]\n",
      "(1, 3, 2, 0, 4)  -> [0, 2, 1, 4, 3]\n",
      "(1, 3, 2, 4, 0)  -> [0, 2, 1, 3, 4]\n",
      "(1, 3, 4, 0, 2)  -> [0, 1, 2, 3, 4]\n",
      "(1, 3, 4, 2, 0)  -> [0, 1, 2, 3, 4]\n",
      "(1, 4, 0, 2, 3)  -> [0, 1, 2, 3, 4]\n",
      "(1, 4, 0, 3, 2)  -> [0, 1, 2, 3, 4]\n",
      "(1, 4, 2, 0, 3)  -> [0, 2, 1, 3, 4]\n",
      "(1, 4, 2, 3, 0)  -> [0, 2, 1, 3, 4]\n",
      "(1, 4, 3, 0, 2)  -> [0, 2, 1, 3, 4]\n",
      "(1, 4, 3, 2, 0)  -> [0, 1, 2, 3, 4]\n",
      "(2, 0, 1, 3, 4)  -> [0, 1, 2, 4, 3]\n",
      "(2, 0, 1, 4, 3)  -> [0, 1, 2, 3, 4]\n",
      "(2, 0, 3, 1, 4)  -> [0, 2, 1, 4, 3]\n",
      "(2, 0, 3, 4, 1)  -> [0, 1, 2, 3, 4]\n",
      "(2, 0, 4, 1, 3)  -> [0, 2, 1, 3, 4]\n",
      "(2, 0, 4, 3, 1)  -> [0, 2, 1, 3, 4]\n",
      "(2, 1, 0, 3, 4)  -> [0, 1, 2, 4, 3]\n",
      "(2, 1, 0, 4, 3)  -> [0, 1, 2, 3, 4]\n",
      "(2, 1, 3, 0, 4)  -> [0, 2, 1, 4, 3]\n",
      "(2, 1, 3, 4, 0)  -> [0, 1, 2, 3, 4]\n",
      "(2, 1, 4, 0, 3)  -> [0, 2, 1, 3, 4]\n",
      "(2, 1, 4, 3, 0)  -> [0, 2, 1, 3, 4]\n",
      "(2, 3, 0, 1, 4)  -> [0, 1, 2, 4, 3]\n",
      "(2, 3, 0, 4, 1)  -> [0, 1, 2, 3, 4]\n",
      "(2, 3, 1, 0, 4)  -> [0, 1, 2, 4, 3]\n",
      "(2, 3, 1, 4, 0)  -> [0, 1, 2, 3, 4]\n",
      "(2, 3, 4, 0, 1)  -> [0, 2, 1, 3, 4]\n",
      "(2, 3, 4, 1, 0)  -> [0, 2, 1, 3, 4]\n",
      "(2, 4, 0, 1, 3)  -> [0, 1, 2, 3, 4]\n",
      "(2, 4, 0, 3, 1)  -> [0, 1, 2, 3, 4]\n",
      "(2, 4, 1, 0, 3)  -> [0, 1, 2, 3, 4]\n",
      "(2, 4, 1, 3, 0)  -> [0, 1, 2, 3, 4]\n",
      "(2, 4, 3, 0, 1)  -> [0, 1, 2, 3, 4]\n",
      "(2, 4, 3, 1, 0)  -> [0, 1, 2, 3, 4]\n",
      "(3, 0, 1, 2, 4)  -> [0, 1, 2, 4, 3]\n",
      "(3, 0, 1, 4, 2)  -> [0, 1, 2, 3, 4]\n",
      "(3, 0, 2, 1, 4)  -> [0, 2, 1, 4, 3]\n",
      "(3, 0, 2, 4, 1)  -> [0, 2, 1, 3, 4]\n",
      "(3, 0, 4, 1, 2)  -> [0, 2, 1, 3, 4]\n",
      "(3, 0, 4, 2, 1)  -> [0, 1, 2, 3, 4]\n",
      "(3, 1, 0, 2, 4)  -> [0, 1, 2, 4, 3]\n",
      "(3, 1, 0, 4, 2)  -> [0, 1, 2, 3, 4]\n",
      "(3, 1, 2, 0, 4)  -> [0, 2, 1, 4, 3]\n",
      "(3, 1, 2, 4, 0)  -> [0, 2, 1, 3, 4]\n",
      "(3, 1, 4, 0, 2)  -> [0, 2, 1, 3, 4]\n",
      "(3, 1, 4, 2, 0)  -> [0, 1, 2, 3, 4]\n",
      "(3, 2, 0, 1, 4)  -> [0, 1, 2, 4, 3]\n",
      "(3, 2, 0, 4, 1)  -> [0, 1, 2, 3, 4]\n",
      "(3, 2, 1, 0, 4)  -> [0, 1, 2, 4, 3]\n",
      "(3, 2, 1, 4, 0)  -> [0, 1, 2, 3, 4]\n",
      "(3, 2, 4, 0, 1)  -> [0, 1, 2, 3, 4]\n",
      "(3, 2, 4, 1, 0)  -> [0, 1, 2, 3, 4]\n",
      "(3, 4, 0, 1, 2)  -> [0, 1, 2, 3, 4]\n",
      "(3, 4, 0, 2, 1)  -> [0, 1, 2, 3, 4]\n",
      "(3, 4, 1, 0, 2)  -> [0, 1, 2, 3, 4]\n",
      "(3, 4, 1, 2, 0)  -> [0, 1, 2, 3, 4]\n",
      "(3, 4, 2, 0, 1)  -> [0, 2, 1, 3, 4]\n",
      "(3, 4, 2, 1, 0)  -> [0, 2, 1, 3, 4]\n",
      "(4, 0, 1, 2, 3)  -> [0, 1, 2, 3, 4]\n",
      "(4, 0, 1, 3, 2)  -> [0, 1, 2, 3, 4]\n",
      "(4, 0, 2, 1, 3)  -> [0, 2, 1, 3, 4]\n",
      "(4, 0, 2, 3, 1)  -> [0, 2, 1, 3, 4]\n",
      "(4, 0, 3, 1, 2)  -> [0, 2, 1, 3, 4]\n",
      "(4, 0, 3, 2, 1)  -> [0, 1, 2, 3, 4]\n",
      "(4, 1, 0, 2, 3)  -> [0, 1, 2, 3, 4]\n",
      "(4, 1, 0, 3, 2)  -> [0, 1, 2, 3, 4]\n",
      "(4, 1, 2, 0, 3)  -> [0, 2, 1, 3, 4]\n",
      "(4, 1, 2, 3, 0)  -> [0, 2, 1, 3, 4]\n",
      "(4, 1, 3, 0, 2)  -> [0, 2, 1, 3, 4]\n",
      "(4, 1, 3, 2, 0)  -> [0, 1, 2, 3, 4]\n",
      "(4, 2, 0, 1, 3)  -> [0, 1, 2, 3, 4]\n",
      "(4, 2, 0, 3, 1)  -> [0, 1, 2, 3, 4]\n",
      "(4, 2, 1, 0, 3)  -> [0, 1, 2, 3, 4]\n",
      "(4, 2, 1, 3, 0)  -> [0, 1, 2, 3, 4]\n",
      "(4, 2, 3, 0, 1)  -> [0, 1, 2, 3, 4]\n",
      "(4, 2, 3, 1, 0)  -> [0, 1, 2, 3, 4]\n",
      "(4, 3, 0, 1, 2)  -> [0, 1, 2, 3, 4]\n",
      "(4, 3, 0, 2, 1)  -> [0, 1, 2, 3, 4]\n",
      "(4, 3, 1, 0, 2)  -> [0, 1, 2, 3, 4]\n",
      "(4, 3, 1, 2, 0)  -> [0, 1, 2, 3, 4]\n",
      "(4, 3, 2, 0, 1)  -> [0, 2, 1, 3, 4]\n",
      "(4, 3, 2, 1, 0)  -> [0, 2, 1, 3, 4]\n"
     ]
    }
   ],
   "source": [
    "import itertools\n",
    "\n",
    "for perm in itertools.permutations(range(5)):\n",
    "    L = list(perm)\n",
    "    heapsort(L)\n",
    "    print(f'{perm}  -> {L}')"
   ]
  },
  {
   "cell_type": "code",
   "execution_count": null,
   "id": "f7b912aa",
   "metadata": {},
   "outputs": [],
   "source": []
  },
  {
   "cell_type": "code",
   "execution_count": null,
   "id": "0e4d86f7",
   "metadata": {},
   "outputs": [],
   "source": []
  }
 ],
 "metadata": {
  "kernelspec": {
   "display_name": "Python 3 (ipykernel)",
   "language": "python",
   "name": "python3"
  },
  "language_info": {
   "codemirror_mode": {
    "name": "ipython",
    "version": 3
   },
   "file_extension": ".py",
   "mimetype": "text/x-python",
   "name": "python",
   "nbconvert_exporter": "python",
   "pygments_lexer": "ipython3",
   "version": "3.9.7"
  }
 },
 "nbformat": 4,
 "nbformat_minor": 5
}
