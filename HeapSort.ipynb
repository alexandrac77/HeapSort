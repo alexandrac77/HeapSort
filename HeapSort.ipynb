{
 "cells": [
  {
   "cell_type": "markdown",
   "id": "7b81ceb1",
   "metadata": {},
   "source": [
    "## Heap Sort\n"
   ]
  },
  {
   "cell_type": "markdown",
   "id": "5e088ffb",
   "metadata": {},
   "source": [
    "## Lists in python\n",
    "***"
   ]
  },
  {
   "cell_type": "code",
   "execution_count": 1,
   "id": "71312a94",
   "metadata": {},
   "outputs": [],
   "source": [
    "# Lists in python can be created with square bracket notation.\n",
    "# they are zero indexed.\n",
    "L = [1, 2, 3, \"Hello, world!\", None, True]"
   ]
  },
  {
   "cell_type": "code",
   "execution_count": 2,
   "id": "10eadec5",
   "metadata": {},
   "outputs": [
    {
     "data": {
      "text/plain": [
       "'Hello, world!'"
      ]
     },
     "execution_count": 2,
     "metadata": {},
     "output_type": "execute_result"
    }
   ],
   "source": [
    "L[3]"
   ]
  },
  {
   "cell_type": "code",
   "execution_count": 3,
   "id": "d63c0cc6",
   "metadata": {},
   "outputs": [
    {
     "data": {
      "text/plain": [
       "[1, 2, 3]"
      ]
     },
     "execution_count": 3,
     "metadata": {},
     "output_type": "execute_result"
    }
   ],
   "source": [
    "# create lists with the list() function\n",
    "list({1,2,3,3})"
   ]
  },
  {
   "cell_type": "code",
   "execution_count": 4,
   "id": "be4c03da",
   "metadata": {},
   "outputs": [
    {
     "data": {
      "text/plain": [
       "True"
      ]
     },
     "execution_count": 4,
     "metadata": {},
     "output_type": "execute_result"
    }
   ],
   "source": [
    "# using negative indexes.\n",
    "L[-1]"
   ]
  },
  {
   "cell_type": "code",
   "execution_count": 5,
   "id": "493bfdf0",
   "metadata": {},
   "outputs": [
    {
     "data": {
      "text/plain": [
       "'Hello, world!'"
      ]
     },
     "execution_count": 5,
     "metadata": {},
     "output_type": "execute_result"
    }
   ],
   "source": [
    "L[-3]"
   ]
  },
  {
   "cell_type": "code",
   "execution_count": 6,
   "id": "88c81603",
   "metadata": {},
   "outputs": [
    {
     "data": {
      "text/plain": [
       "[0,\n",
       " 2,\n",
       " 4,\n",
       " 6,\n",
       " 8,\n",
       " 10,\n",
       " 12,\n",
       " 14,\n",
       " 16,\n",
       " 18,\n",
       " 20,\n",
       " 22,\n",
       " 24,\n",
       " 26,\n",
       " 28,\n",
       " 30,\n",
       " 32,\n",
       " 34,\n",
       " 36,\n",
       " 38,\n",
       " 40,\n",
       " 42,\n",
       " 44,\n",
       " 46,\n",
       " 48,\n",
       " 50,\n",
       " 52,\n",
       " 54,\n",
       " 56,\n",
       " 58,\n",
       " 60,\n",
       " 62,\n",
       " 64,\n",
       " 66,\n",
       " 68,\n",
       " 70,\n",
       " 72,\n",
       " 74,\n",
       " 76,\n",
       " 78,\n",
       " 80,\n",
       " 82,\n",
       " 84,\n",
       " 86,\n",
       " 88,\n",
       " 90,\n",
       " 92,\n",
       " 94,\n",
       " 96,\n",
       " 98]"
      ]
     },
     "execution_count": 6,
     "metadata": {},
     "output_type": "execute_result"
    }
   ],
   "source": [
    "# in-built functions for creating iterables.\n",
    "# count in twos up to 100.\n",
    "list(range(0, 100, 2))"
   ]
  },
  {
   "cell_type": "code",
   "execution_count": 7,
   "id": "9d334162",
   "metadata": {},
   "outputs": [
    {
     "data": {
      "text/plain": [
       "[0, 1, 2, 3, 4, 5, 6, 7, 8, 9, 10, 11, 12, 13, 14, 15, 16, 17, 18, 19]"
      ]
     },
     "execution_count": 7,
     "metadata": {},
     "output_type": "execute_result"
    }
   ],
   "source": [
    "L = list(range(20))\n",
    "L"
   ]
  },
  {
   "cell_type": "code",
   "execution_count": 8,
   "id": "5f567e7a",
   "metadata": {},
   "outputs": [
    {
     "data": {
      "text/plain": [
       "[2, 5, 8]"
      ]
     },
     "execution_count": 8,
     "metadata": {},
     "output_type": "execute_result"
    }
   ],
   "source": [
    "# List slicing.\n",
    "L[1:10:2]\n",
    "L[2:10:3]"
   ]
  },
  {
   "cell_type": "code",
   "execution_count": 9,
   "id": "d50f1a0b",
   "metadata": {},
   "outputs": [
    {
     "data": {
      "text/plain": [
       "[4, 5, 6, 7, 8, 9, 10, 11, 12, 13, 14, 15, 16, 17, 18, 19]"
      ]
     },
     "execution_count": 9,
     "metadata": {},
     "output_type": "execute_result"
    }
   ],
   "source": [
    "L[4:]"
   ]
  },
  {
   "cell_type": "code",
   "execution_count": 10,
   "id": "420b9796",
   "metadata": {},
   "outputs": [
    {
     "data": {
      "text/plain": [
       "[0, 1, 2, 3, 4]"
      ]
     },
     "execution_count": 10,
     "metadata": {},
     "output_type": "execute_result"
    }
   ],
   "source": [
    "L[:5]"
   ]
  },
  {
   "cell_type": "code",
   "execution_count": 11,
   "id": "a263ac4b",
   "metadata": {},
   "outputs": [
    {
     "data": {
      "text/plain": [
       "[5, 6, 7, 8, 9, 10, 11, 12, 13, 14, 15, 16, 17, 18, 19, 0, 1, 2, 3, 4]"
      ]
     },
     "execution_count": 11,
     "metadata": {},
     "output_type": "execute_result"
    }
   ],
   "source": [
    "# Quick way to cycle the list to the left.\n",
    "i =5\n",
    "L[i:] + L[:i]"
   ]
  },
  {
   "cell_type": "code",
   "execution_count": 12,
   "id": "516a3458",
   "metadata": {},
   "outputs": [],
   "source": [
    "# Tuples. -- Immutable.\n",
    "T = (1,2,3,4)"
   ]
  },
  {
   "cell_type": "code",
   "execution_count": 13,
   "id": "8720320d",
   "metadata": {},
   "outputs": [
    {
     "data": {
      "text/plain": [
       "1"
      ]
     },
     "execution_count": 13,
     "metadata": {},
     "output_type": "execute_result"
    }
   ],
   "source": [
    "# select elements.\n",
    "T[0]"
   ]
  },
  {
   "cell_type": "code",
   "execution_count": 14,
   "id": "3f0a5e6e",
   "metadata": {},
   "outputs": [
    {
     "data": {
      "text/plain": [
       "(4,)"
      ]
     },
     "execution_count": 14,
     "metadata": {},
     "output_type": "execute_result"
    }
   ],
   "source": [
    "# Slice elements.\n",
    "T[3:]"
   ]
  },
  {
   "cell_type": "code",
   "execution_count": 15,
   "id": "5e6cf6bf",
   "metadata": {},
   "outputs": [],
   "source": [
    "# can't assign. - would give an error\n",
    "# T[2]= 100"
   ]
  },
  {
   "cell_type": "code",
   "execution_count": 16,
   "id": "2ed2e487",
   "metadata": {},
   "outputs": [
    {
     "data": {
      "text/plain": [
       "(1, 2, 3, 4)"
      ]
     },
     "execution_count": 16,
     "metadata": {},
     "output_type": "execute_result"
    }
   ],
   "source": [
    "# Tuples are created with commas as opposed to round brackets.\n",
    "T = 1,2,3,4\n",
    "T"
   ]
  },
  {
   "cell_type": "code",
   "execution_count": 17,
   "id": "5c502499",
   "metadata": {},
   "outputs": [
    {
     "data": {
      "text/plain": [
       "590899387183067792"
      ]
     },
     "execution_count": 17,
     "metadata": {},
     "output_type": "execute_result"
    }
   ],
   "source": [
    "hash(T)"
   ]
  },
  {
   "cell_type": "code",
   "execution_count": 18,
   "id": "3c23e3a2",
   "metadata": {},
   "outputs": [],
   "source": [
    "# You can use tuples for assignment.\n",
    "a, b = 3, 4"
   ]
  },
  {
   "cell_type": "code",
   "execution_count": 19,
   "id": "21322fe0",
   "metadata": {},
   "outputs": [
    {
     "data": {
      "text/plain": [
       "3"
      ]
     },
     "execution_count": 19,
     "metadata": {},
     "output_type": "execute_result"
    }
   ],
   "source": [
    "a"
   ]
  },
  {
   "cell_type": "code",
   "execution_count": 20,
   "id": "e96590d8",
   "metadata": {},
   "outputs": [
    {
     "data": {
      "text/plain": [
       "4"
      ]
     },
     "execution_count": 20,
     "metadata": {},
     "output_type": "execute_result"
    }
   ],
   "source": [
    "b"
   ]
  },
  {
   "cell_type": "code",
   "execution_count": 21,
   "id": "4e1b7ffd",
   "metadata": {},
   "outputs": [],
   "source": [
    "# trick for swapping two values\n",
    "a, b = b, a"
   ]
  },
  {
   "cell_type": "code",
   "execution_count": 22,
   "id": "43a0b6e3",
   "metadata": {},
   "outputs": [
    {
     "data": {
      "text/plain": [
       "4"
      ]
     },
     "execution_count": 22,
     "metadata": {},
     "output_type": "execute_result"
    }
   ],
   "source": [
    "a"
   ]
  },
  {
   "cell_type": "code",
   "execution_count": 23,
   "id": "c8af7305",
   "metadata": {},
   "outputs": [
    {
     "data": {
      "text/plain": [
       "3"
      ]
     },
     "execution_count": 23,
     "metadata": {},
     "output_type": "execute_result"
    }
   ],
   "source": [
    "b"
   ]
  },
  {
   "cell_type": "code",
   "execution_count": 24,
   "id": "dd0ab203",
   "metadata": {},
   "outputs": [
    {
     "data": {
      "text/plain": [
       "[0, 1, 2, 3, 4, 5, 6, 7, 8, 9]"
      ]
     },
     "execution_count": 24,
     "metadata": {},
     "output_type": "execute_result"
    }
   ],
   "source": [
    "# List of integers\n",
    "L = list(range(10))\n",
    "L"
   ]
  },
  {
   "cell_type": "code",
   "execution_count": 25,
   "id": "60717485",
   "metadata": {},
   "outputs": [
    {
     "data": {
      "text/plain": [
       "[0, 1, 8, 27, 64, 125, 216, 343, 512, 729]"
      ]
     },
     "execution_count": 25,
     "metadata": {},
     "output_type": "execute_result"
    }
   ],
   "source": [
    "# List comprehension.\n",
    "[i**3  for i in L]"
   ]
  },
  {
   "cell_type": "code",
   "execution_count": 26,
   "id": "04d806ab",
   "metadata": {},
   "outputs": [
    {
     "data": {
      "text/plain": [
       "[9, 8, 7, 6, 5, 4, 3, 2, 1, 0]"
      ]
     },
     "execution_count": 26,
     "metadata": {},
     "output_type": "execute_result"
    }
   ],
   "source": [
    "# curve ball.\n",
    "# reverse list.\n",
    "L[::-1]"
   ]
  },
  {
   "cell_type": "markdown",
   "id": "71fbfb78",
   "metadata": {},
   "source": [
    "\n",
    "\n",
    "\n",
    "## Bubble Sort\n",
    "***\n"
   ]
  },
  {
   "cell_type": "code",
   "execution_count": 27,
   "id": "5f74a932",
   "metadata": {},
   "outputs": [],
   "source": [
    "# Import a module from the standard library.\n",
    "import random"
   ]
  },
  {
   "cell_type": "code",
   "execution_count": 28,
   "id": "96c64971",
   "metadata": {},
   "outputs": [],
   "source": [
    "# create list of integers.\n",
    "L = list(range(1,11))"
   ]
  },
  {
   "cell_type": "code",
   "execution_count": 29,
   "id": "0a8ce7ec",
   "metadata": {},
   "outputs": [
    {
     "data": {
      "text/plain": [
       "[1, 2, 3, 4, 5, 6, 7, 8, 9, 10]"
      ]
     },
     "execution_count": 29,
     "metadata": {},
     "output_type": "execute_result"
    }
   ],
   "source": [
    "L"
   ]
  },
  {
   "cell_type": "code",
   "execution_count": 30,
   "id": "03944b59",
   "metadata": {},
   "outputs": [],
   "source": [
    "# shuffle the list.\n",
    "random.shuffle(L)"
   ]
  },
  {
   "cell_type": "code",
   "execution_count": 31,
   "id": "8b683745",
   "metadata": {},
   "outputs": [
    {
     "data": {
      "text/plain": [
       "[3, 5, 6, 8, 7, 10, 1, 4, 9, 2]"
      ]
     },
     "execution_count": 31,
     "metadata": {},
     "output_type": "execute_result"
    }
   ],
   "source": [
    "# the list is shuffled\n",
    "L"
   ]
  },
  {
   "cell_type": "code",
   "execution_count": 32,
   "id": "57a4f0fd",
   "metadata": {},
   "outputs": [],
   "source": [
    "# bubble sort as a function.\n",
    "\n",
    "def bubble_sort(L):\n",
    "    # track number of comparisons\n",
    "    no_comparisons = 0\n",
    "\n",
    "    # bubble every (biggest) element up.\n",
    "    for j in range(len(L)-1):\n",
    "        # keep track of any swaps.\n",
    "        swapped = False\n",
    "        # compare all elements that are side by side.\n",
    "        for i in range(len(L)-1 -j):\n",
    "            # compare ith element with the (i+1).\n",
    "            if L[i] > L[i+1]:\n",
    "                # swap the elements.\n",
    "                L[i], L[i+1] = L[i+1], L[i]\n",
    "                # keep track of the swap.\n",
    "                swapped = True\n",
    "            # add a comparison.\n",
    "            no_comparisons = no_comparisons + 1\n",
    "        # quit if no swaps were made\n",
    "        if not swapped:\n",
    "            break\n",
    "    # Return number of comparisons made\n",
    "    return no_comparisons"
   ]
  },
  {
   "cell_type": "code",
   "execution_count": 33,
   "id": "beb55845",
   "metadata": {},
   "outputs": [
    {
     "data": {
      "text/plain": [
       "[8, 3, 10, 4, 9, 6, 1, 7, 5, 2]"
      ]
     },
     "execution_count": 33,
     "metadata": {},
     "output_type": "execute_result"
    }
   ],
   "source": [
    "# Create a list.\n",
    "L = list(range(1,11))\n",
    "\n",
    "# Shuffle it.\n",
    "random.shuffle(L)\n",
    "\n",
    "# Look at it.\n",
    "L"
   ]
  },
  {
   "cell_type": "code",
   "execution_count": 34,
   "id": "f5fd7f9f",
   "metadata": {},
   "outputs": [
    {
     "data": {
      "text/plain": [
       "45"
      ]
     },
     "execution_count": 34,
     "metadata": {},
     "output_type": "execute_result"
    }
   ],
   "source": [
    "# function works on L in place.\n",
    "bubble_sort(L)"
   ]
  },
  {
   "cell_type": "code",
   "execution_count": 35,
   "id": "b2e9a12e",
   "metadata": {},
   "outputs": [
    {
     "data": {
      "text/plain": [
       "[1, 2, 3, 4, 5, 6, 7, 8, 9, 10]"
      ]
     },
     "execution_count": 35,
     "metadata": {},
     "output_type": "execute_result"
    }
   ],
   "source": [
    "L"
   ]
  },
  {
   "cell_type": "code",
   "execution_count": 36,
   "id": "16f14844",
   "metadata": {},
   "outputs": [
    {
     "data": {
      "text/plain": [
       "9"
      ]
     },
     "execution_count": 36,
     "metadata": {},
     "output_type": "execute_result"
    }
   ],
   "source": [
    "# Once the list is sorted - bubble sort is O(n).\n",
    "bubble_sort(L)"
   ]
  },
  {
   "cell_type": "code",
   "execution_count": 37,
   "id": "448bd43b",
   "metadata": {},
   "outputs": [
    {
     "data": {
      "text/plain": [
       "[10, 9, 8, 7, 6, 5, 4, 3, 2, 1]"
      ]
     },
     "execution_count": 37,
     "metadata": {},
     "output_type": "execute_result"
    }
   ],
   "source": [
    "# The worst case for bubble sort.\n",
    "L[::-1]"
   ]
  },
  {
   "cell_type": "code",
   "execution_count": 38,
   "id": "49ec2ba7",
   "metadata": {},
   "outputs": [
    {
     "data": {
      "text/plain": [
       "45"
      ]
     },
     "execution_count": 38,
     "metadata": {},
     "output_type": "execute_result"
    }
   ],
   "source": [
    "# Still O(n^2)\n",
    "bubble_sort(L[::-1])"
   ]
  },
  {
   "cell_type": "code",
   "execution_count": 39,
   "id": "af563ca2",
   "metadata": {},
   "outputs": [
    {
     "data": {
      "text/plain": [
       "45"
      ]
     },
     "execution_count": 39,
     "metadata": {},
     "output_type": "execute_result"
    }
   ],
   "source": [
    "sum(range(10))"
   ]
  },
  {
   "cell_type": "markdown",
   "id": "60865c53",
   "metadata": {},
   "source": [
    "## Heap Sort\n",
    "#### Transplanted from wikipedia\n",
    "***"
   ]
  },
  {
   "cell_type": "code",
   "execution_count": 40,
   "id": "3a35180a",
   "metadata": {},
   "outputs": [],
   "source": [
    "def siftDown(L, parent, end):\n",
    "    \"\"\"L[parent:end+1] should almost be a max heap.\n",
    "        siftDown repairs it so that it is one.\"\"\"\n",
    "    \n",
    "    # Keep track of the number of comparisons.\n",
    "    no_comparisons = 0\n",
    "    \n",
    "    # While parent is actually a parent (has at least a left child).\n",
    "    while 2 * parent + 1 <= end:\n",
    "        # The indices of the children of parent.\n",
    "        lchild = 2 * parent + 1\n",
    "        rchild = 2 * parent + 2\n",
    "        \n",
    "        \n",
    "        # Assume parent is larger than the children.\n",
    "        swap = parent\n",
    "        # Is the parent smaller than the left child?\n",
    "        if L[swap] < L[lchild]:\n",
    "            # Then swap is set to index of left child.\n",
    "            swap = lchild\n",
    "            # Increment no_comparisons.\n",
    "            no_comparisons = no_comparisons + 1\n",
    "            \n",
    "        # Check if right child exists and is smaller than L[swap].\n",
    "        if rchild +1 <= end and L[swap] < L[rchild]:\n",
    "            # Then swap is set to index of right child.\n",
    "            swap = rchild\n",
    "            # Increment no_comparisons.\n",
    "            no_comparisons = no_comparisons + 1\n",
    "            \n",
    "        # We have a max heap if the parent is bigger thaan the children.\n",
    "        if swap == parent:\n",
    "            break\n",
    "        else:\n",
    "            # Swap the parent with the bigger child.\n",
    "            L[parent], L[swap] = L[swap], L[parent]\n",
    "            # Set parent to bugger child's index\n",
    "            parent = swap\n",
    "    # Return number of comparisons.\n",
    "    return no_comparisons"
   ]
  },
  {
   "cell_type": "code",
   "execution_count": 41,
   "id": "c3880c1f",
   "metadata": {},
   "outputs": [],
   "source": [
    "def heapsort(L):\n",
    "    \"\"\"Sorts the list L in-place using Heap Sort.\"\"\"\n",
    "    \n",
    "    # Keep track of the number of comparisons.\n",
    "    no_comparisons = 0\n",
    "    \n",
    "    # Turn L into a max heap.\n",
    "    # Index of the last element.\n",
    "    last_element = len(L) - 1\n",
    "    \n",
    "    # Find the last parent.\n",
    "    last_parent = (last_element - 1) //2\n",
    "    # Loop backwards through all parents.\n",
    "    for parent in range(last_parent, -1, -1):\n",
    "        # Sift down.\n",
    "        no_comparisons = no_comparisons + siftDown(L, parent, last_element)\n",
    "        \n",
    "    # Segregate the list L into two parts:\n",
    "    #    1. L[:end] is a max heap.\n",
    "    #    2. Each element beyond end is greater than everything before it.\n",
    "    # While there are still elements in the heap.\n",
    "    for end in range(last_element, 0, -1):\n",
    "        # Swap the element at index 0 with the element at index end.\n",
    "        L[0], L[end] = L[end], L[0]\n",
    "        # Fix the heap - the root is currently out of place.\n",
    "        no_comparisons = no_comparisons + siftDown(L, 0, end - 1)\n",
    "        \n",
    "    # Return the number of comparisons\n",
    "    return no_comparisons"
   ]
  },
  {
   "cell_type": "code",
   "execution_count": 42,
   "id": "178d44bc",
   "metadata": {},
   "outputs": [
    {
     "data": {
      "text/plain": [
       "[19, 100, 36, 25, 3, 17, 7, 2, 1]"
      ]
     },
     "execution_count": 42,
     "metadata": {},
     "output_type": "execute_result"
    }
   ],
   "source": [
    "# Example list from wikipedia diagram.\n",
    "L = [19, 100, 36, 25, 3, 17, 7, 2, 1]\n",
    "L"
   ]
  },
  {
   "cell_type": "code",
   "execution_count": 43,
   "id": "ca65adbe",
   "metadata": {},
   "outputs": [
    {
     "data": {
      "text/plain": [
       "[1, 2, 3, 7, 17, 19, 25, 36, 100]"
      ]
     },
     "execution_count": 43,
     "metadata": {},
     "output_type": "execute_result"
    }
   ],
   "source": [
    "# Show heap sort working.\n",
    "heapsort(L)\n",
    "L"
   ]
  },
  {
   "cell_type": "markdown",
   "id": "74975587",
   "metadata": {},
   "source": [
    "<br>\n",
    "\n",
    "## Comparing Algorithms\n",
    "***"
   ]
  },
  {
   "cell_type": "code",
   "execution_count": 44,
   "id": "c4083626",
   "metadata": {},
   "outputs": [
    {
     "data": {
      "text/plain": [
       "([1, 2, 3, 7, 17, 19, 25, 36, 100], 13)"
      ]
     },
     "execution_count": 44,
     "metadata": {},
     "output_type": "execute_result"
    }
   ],
   "source": [
    "# Perform heap sort, show number of comparisons.\n",
    "L = [19, 100, 36, 25, 3, 17, 7, 2, 1]\n",
    "no_comparisons = heapsort(L)\n",
    "L, no_comparisons"
   ]
  },
  {
   "cell_type": "code",
   "execution_count": 45,
   "id": "f481950a",
   "metadata": {},
   "outputs": [
    {
     "data": {
      "text/plain": [
       "([1, 2, 3, 7, 17, 19, 25, 36, 100], 36)"
      ]
     },
     "execution_count": 45,
     "metadata": {},
     "output_type": "execute_result"
    }
   ],
   "source": [
    "# Perform bubble sort, show number of comparisons.\n",
    "L = [19, 100, 36, 25, 3, 17, 7, 2, 1]\n",
    "no_comparisons = bubble_sort(L)\n",
    "L, no_comparisons"
   ]
  },
  {
   "cell_type": "code",
   "execution_count": 46,
   "id": "c4969ded",
   "metadata": {},
   "outputs": [
    {
     "name": "stdout",
     "output_type": "stream",
     "text": [
      "0, 1, 2, 3, 4|4|4\n",
      "0, 1, 2, 4, 3|7|4\n",
      "0, 1, 3, 2, 4|7|5\n",
      "0, 1, 3, 4, 2|9|5\n",
      "0, 1, 4, 2, 3|7|5\n",
      "0, 1, 4, 3, 2|9|6\n",
      "0, 2, 1, 3, 4|7|4\n",
      "0, 2, 1, 4, 3|7|4\n",
      "0, 2, 3, 1, 4|9|4\n",
      "0, 2, 3, 4, 1|10|6\n",
      "0, 2, 4, 1, 3|9|4\n",
      "0, 2, 4, 3, 1|10|7\n",
      "0, 3, 1, 2, 4|7|3\n",
      "0, 3, 1, 4, 2|9|5\n",
      "0, 3, 2, 1, 4|9|3\n",
      "0, 3, 2, 4, 1|10|5\n",
      "0, 3, 4, 1, 2|9|5\n",
      "0, 3, 4, 2, 1|10|6\n",
      "0, 4, 1, 2, 3|7|3\n",
      "0, 4, 1, 3, 2|9|4\n",
      "0, 4, 2, 1, 3|9|3\n",
      "0, 4, 2, 3, 1|10|4\n",
      "0, 4, 3, 1, 2|9|4\n",
      "0, 4, 3, 2, 1|10|5\n",
      "1, 0, 2, 3, 4|7|3\n",
      "1, 0, 2, 4, 3|7|3\n",
      "1, 0, 3, 2, 4|7|4\n",
      "1, 0, 3, 4, 2|9|4\n",
      "1, 0, 4, 2, 3|7|4\n",
      "1, 0, 4, 3, 2|9|5\n",
      "1, 2, 0, 3, 4|9|5\n",
      "1, 2, 0, 4, 3|9|5\n",
      "1, 2, 3, 0, 4|10|3\n",
      "1, 2, 3, 4, 0|10|7\n",
      "1, 2, 4, 0, 3|10|3\n",
      "1, 2, 4, 3, 0|10|6\n",
      "1, 3, 0, 2, 4|9|4\n",
      "1, 3, 0, 4, 2|9|6\n",
      "1, 3, 2, 0, 4|10|2\n",
      "1, 3, 2, 4, 0|10|6\n",
      "1, 3, 4, 0, 2|10|4\n",
      "1, 3, 4, 2, 0|10|5\n",
      "1, 4, 0, 2, 3|9|4\n",
      "1, 4, 0, 3, 2|9|5\n",
      "1, 4, 2, 0, 3|10|2\n",
      "1, 4, 2, 3, 0|10|5\n",
      "1, 4, 3, 0, 2|10|3\n",
      "1, 4, 3, 2, 0|10|6\n",
      "2, 0, 1, 3, 4|7|3\n",
      "2, 0, 1, 4, 3|7|3\n",
      "2, 0, 3, 1, 4|9|3\n",
      "2, 0, 3, 4, 1|10|5\n",
      "2, 0, 4, 1, 3|9|3\n",
      "2, 0, 4, 3, 1|10|5\n",
      "2, 1, 0, 3, 4|9|4\n",
      "2, 1, 0, 4, 3|9|4\n",
      "2, 1, 3, 0, 4|10|2\n",
      "2, 1, 3, 4, 0|10|6\n",
      "2, 1, 4, 0, 3|10|2\n",
      "2, 1, 4, 3, 0|10|6\n",
      "2, 3, 0, 1, 4|9|3\n",
      "2, 3, 0, 4, 1|10|7\n",
      "2, 3, 1, 0, 4|10|2\n",
      "2, 3, 1, 4, 0|10|6\n",
      "2, 3, 4, 0, 1|10|4\n",
      "2, 3, 4, 1, 0|10|5\n",
      "2, 4, 0, 1, 3|9|3\n",
      "2, 4, 0, 3, 1|10|6\n",
      "2, 4, 1, 0, 3|10|2\n",
      "2, 4, 1, 3, 0|10|5\n",
      "2, 4, 3, 0, 1|10|4\n",
      "2, 4, 3, 1, 0|10|5\n",
      "3, 0, 1, 2, 4|7|2\n",
      "3, 0, 1, 4, 2|9|4\n",
      "3, 0, 2, 1, 4|9|2\n",
      "3, 0, 2, 4, 1|10|4\n",
      "3, 0, 4, 1, 2|9|4\n",
      "3, 0, 4, 2, 1|10|5\n",
      "3, 1, 0, 2, 4|9|3\n",
      "3, 1, 0, 4, 2|9|5\n",
      "3, 1, 2, 0, 4|10|1\n",
      "3, 1, 2, 4, 0|10|5\n",
      "3, 1, 4, 0, 2|10|3\n",
      "3, 1, 4, 2, 0|10|6\n",
      "3, 2, 0, 1, 4|9|2\n",
      "3, 2, 0, 4, 1|10|6\n",
      "3, 2, 1, 0, 4|10|1\n",
      "3, 2, 1, 4, 0|10|5\n",
      "3, 2, 4, 0, 1|10|4\n",
      "3, 2, 4, 1, 0|10|5\n",
      "3, 4, 0, 1, 2|9|4\n",
      "3, 4, 0, 2, 1|10|5\n",
      "3, 4, 1, 0, 2|10|3\n",
      "3, 4, 1, 2, 0|10|4\n",
      "3, 4, 2, 0, 1|10|3\n",
      "3, 4, 2, 1, 0|10|4\n",
      "4, 0, 1, 2, 3|7|2\n",
      "4, 0, 1, 3, 2|9|3\n",
      "4, 0, 2, 1, 3|9|2\n",
      "4, 0, 2, 3, 1|10|3\n",
      "4, 0, 3, 1, 2|9|3\n",
      "4, 0, 3, 2, 1|10|4\n",
      "4, 1, 0, 2, 3|9|3\n",
      "4, 1, 0, 3, 2|9|4\n",
      "4, 1, 2, 0, 3|10|1\n",
      "4, 1, 2, 3, 0|10|4\n",
      "4, 1, 3, 0, 2|10|2\n",
      "4, 1, 3, 2, 0|10|5\n",
      "4, 2, 0, 1, 3|9|2\n",
      "4, 2, 0, 3, 1|10|5\n",
      "4, 2, 1, 0, 3|10|1\n",
      "4, 2, 1, 3, 0|10|4\n",
      "4, 2, 3, 0, 1|10|3\n",
      "4, 2, 3, 1, 0|10|4\n",
      "4, 3, 0, 1, 2|9|3\n",
      "4, 3, 0, 2, 1|10|4\n",
      "4, 3, 1, 0, 2|10|2\n",
      "4, 3, 1, 2, 0|10|3\n",
      "4, 3, 2, 0, 1|10|2\n",
      "4, 3, 2, 1, 0|10|3\n"
     ]
    }
   ],
   "source": [
    "# Module full of combinatorial functions.\n",
    "import itertools\n",
    "\n",
    "# Length of example list.\n",
    "n = 5\n",
    "\n",
    "# Loop through all permutations of the list of integers from 0 to n.\n",
    "for perm in itertools.permutations(range(n)):\n",
    "    L = list(perm)\n",
    "    bubb_comp = bubble_sort(L)\n",
    "    L = list(perm)\n",
    "    heap_comp = heapsort(L)\n",
    "    print(f'{str(perm)[1:-1]}|{bubb_comp}|{heap_comp}')"
   ]
  },
  {
   "cell_type": "markdown",
   "id": "fff35d07",
   "metadata": {},
   "source": [
    "Using pandas:"
   ]
  },
  {
   "cell_type": "code",
   "execution_count": 47,
   "id": "5a358a5a",
   "metadata": {},
   "outputs": [],
   "source": [
    "# Like Excel for Python\n",
    "import pandas as pd"
   ]
  },
  {
   "cell_type": "code",
   "execution_count": 48,
   "id": "0f6400e0",
   "metadata": {},
   "outputs": [],
   "source": [
    "# Length of example list.\n",
    "n = 5\n",
    "\n",
    "results = [[str(perm)[1:-1],bubble_sort(list(perm)), heapsort(list(perm))] for perm in itertools.permutations(range(n))]"
   ]
  },
  {
   "cell_type": "code",
   "execution_count": 49,
   "id": "63695d41",
   "metadata": {},
   "outputs": [
    {
     "data": {
      "text/plain": [
       "[['0, 1, 2, 3, 4', 4, 4],\n",
       " ['0, 1, 2, 4, 3', 7, 4],\n",
       " ['0, 1, 3, 2, 4', 7, 5],\n",
       " ['0, 1, 3, 4, 2', 9, 5],\n",
       " ['0, 1, 4, 2, 3', 7, 5],\n",
       " ['0, 1, 4, 3, 2', 9, 6],\n",
       " ['0, 2, 1, 3, 4', 7, 4],\n",
       " ['0, 2, 1, 4, 3', 7, 4],\n",
       " ['0, 2, 3, 1, 4', 9, 4],\n",
       " ['0, 2, 3, 4, 1', 10, 6],\n",
       " ['0, 2, 4, 1, 3', 9, 4],\n",
       " ['0, 2, 4, 3, 1', 10, 7],\n",
       " ['0, 3, 1, 2, 4', 7, 3],\n",
       " ['0, 3, 1, 4, 2', 9, 5],\n",
       " ['0, 3, 2, 1, 4', 9, 3],\n",
       " ['0, 3, 2, 4, 1', 10, 5],\n",
       " ['0, 3, 4, 1, 2', 9, 5],\n",
       " ['0, 3, 4, 2, 1', 10, 6],\n",
       " ['0, 4, 1, 2, 3', 7, 3],\n",
       " ['0, 4, 1, 3, 2', 9, 4],\n",
       " ['0, 4, 2, 1, 3', 9, 3],\n",
       " ['0, 4, 2, 3, 1', 10, 4],\n",
       " ['0, 4, 3, 1, 2', 9, 4],\n",
       " ['0, 4, 3, 2, 1', 10, 5],\n",
       " ['1, 0, 2, 3, 4', 7, 3],\n",
       " ['1, 0, 2, 4, 3', 7, 3],\n",
       " ['1, 0, 3, 2, 4', 7, 4],\n",
       " ['1, 0, 3, 4, 2', 9, 4],\n",
       " ['1, 0, 4, 2, 3', 7, 4],\n",
       " ['1, 0, 4, 3, 2', 9, 5],\n",
       " ['1, 2, 0, 3, 4', 9, 5],\n",
       " ['1, 2, 0, 4, 3', 9, 5],\n",
       " ['1, 2, 3, 0, 4', 10, 3],\n",
       " ['1, 2, 3, 4, 0', 10, 7],\n",
       " ['1, 2, 4, 0, 3', 10, 3],\n",
       " ['1, 2, 4, 3, 0', 10, 6],\n",
       " ['1, 3, 0, 2, 4', 9, 4],\n",
       " ['1, 3, 0, 4, 2', 9, 6],\n",
       " ['1, 3, 2, 0, 4', 10, 2],\n",
       " ['1, 3, 2, 4, 0', 10, 6],\n",
       " ['1, 3, 4, 0, 2', 10, 4],\n",
       " ['1, 3, 4, 2, 0', 10, 5],\n",
       " ['1, 4, 0, 2, 3', 9, 4],\n",
       " ['1, 4, 0, 3, 2', 9, 5],\n",
       " ['1, 4, 2, 0, 3', 10, 2],\n",
       " ['1, 4, 2, 3, 0', 10, 5],\n",
       " ['1, 4, 3, 0, 2', 10, 3],\n",
       " ['1, 4, 3, 2, 0', 10, 6],\n",
       " ['2, 0, 1, 3, 4', 7, 3],\n",
       " ['2, 0, 1, 4, 3', 7, 3],\n",
       " ['2, 0, 3, 1, 4', 9, 3],\n",
       " ['2, 0, 3, 4, 1', 10, 5],\n",
       " ['2, 0, 4, 1, 3', 9, 3],\n",
       " ['2, 0, 4, 3, 1', 10, 5],\n",
       " ['2, 1, 0, 3, 4', 9, 4],\n",
       " ['2, 1, 0, 4, 3', 9, 4],\n",
       " ['2, 1, 3, 0, 4', 10, 2],\n",
       " ['2, 1, 3, 4, 0', 10, 6],\n",
       " ['2, 1, 4, 0, 3', 10, 2],\n",
       " ['2, 1, 4, 3, 0', 10, 6],\n",
       " ['2, 3, 0, 1, 4', 9, 3],\n",
       " ['2, 3, 0, 4, 1', 10, 7],\n",
       " ['2, 3, 1, 0, 4', 10, 2],\n",
       " ['2, 3, 1, 4, 0', 10, 6],\n",
       " ['2, 3, 4, 0, 1', 10, 4],\n",
       " ['2, 3, 4, 1, 0', 10, 5],\n",
       " ['2, 4, 0, 1, 3', 9, 3],\n",
       " ['2, 4, 0, 3, 1', 10, 6],\n",
       " ['2, 4, 1, 0, 3', 10, 2],\n",
       " ['2, 4, 1, 3, 0', 10, 5],\n",
       " ['2, 4, 3, 0, 1', 10, 4],\n",
       " ['2, 4, 3, 1, 0', 10, 5],\n",
       " ['3, 0, 1, 2, 4', 7, 2],\n",
       " ['3, 0, 1, 4, 2', 9, 4],\n",
       " ['3, 0, 2, 1, 4', 9, 2],\n",
       " ['3, 0, 2, 4, 1', 10, 4],\n",
       " ['3, 0, 4, 1, 2', 9, 4],\n",
       " ['3, 0, 4, 2, 1', 10, 5],\n",
       " ['3, 1, 0, 2, 4', 9, 3],\n",
       " ['3, 1, 0, 4, 2', 9, 5],\n",
       " ['3, 1, 2, 0, 4', 10, 1],\n",
       " ['3, 1, 2, 4, 0', 10, 5],\n",
       " ['3, 1, 4, 0, 2', 10, 3],\n",
       " ['3, 1, 4, 2, 0', 10, 6],\n",
       " ['3, 2, 0, 1, 4', 9, 2],\n",
       " ['3, 2, 0, 4, 1', 10, 6],\n",
       " ['3, 2, 1, 0, 4', 10, 1],\n",
       " ['3, 2, 1, 4, 0', 10, 5],\n",
       " ['3, 2, 4, 0, 1', 10, 4],\n",
       " ['3, 2, 4, 1, 0', 10, 5],\n",
       " ['3, 4, 0, 1, 2', 9, 4],\n",
       " ['3, 4, 0, 2, 1', 10, 5],\n",
       " ['3, 4, 1, 0, 2', 10, 3],\n",
       " ['3, 4, 1, 2, 0', 10, 4],\n",
       " ['3, 4, 2, 0, 1', 10, 3],\n",
       " ['3, 4, 2, 1, 0', 10, 4],\n",
       " ['4, 0, 1, 2, 3', 7, 2],\n",
       " ['4, 0, 1, 3, 2', 9, 3],\n",
       " ['4, 0, 2, 1, 3', 9, 2],\n",
       " ['4, 0, 2, 3, 1', 10, 3],\n",
       " ['4, 0, 3, 1, 2', 9, 3],\n",
       " ['4, 0, 3, 2, 1', 10, 4],\n",
       " ['4, 1, 0, 2, 3', 9, 3],\n",
       " ['4, 1, 0, 3, 2', 9, 4],\n",
       " ['4, 1, 2, 0, 3', 10, 1],\n",
       " ['4, 1, 2, 3, 0', 10, 4],\n",
       " ['4, 1, 3, 0, 2', 10, 2],\n",
       " ['4, 1, 3, 2, 0', 10, 5],\n",
       " ['4, 2, 0, 1, 3', 9, 2],\n",
       " ['4, 2, 0, 3, 1', 10, 5],\n",
       " ['4, 2, 1, 0, 3', 10, 1],\n",
       " ['4, 2, 1, 3, 0', 10, 4],\n",
       " ['4, 2, 3, 0, 1', 10, 3],\n",
       " ['4, 2, 3, 1, 0', 10, 4],\n",
       " ['4, 3, 0, 1, 2', 9, 3],\n",
       " ['4, 3, 0, 2, 1', 10, 4],\n",
       " ['4, 3, 1, 0, 2', 10, 2],\n",
       " ['4, 3, 1, 2, 0', 10, 3],\n",
       " ['4, 3, 2, 0, 1', 10, 2],\n",
       " ['4, 3, 2, 1, 0', 10, 3]]"
      ]
     },
     "execution_count": 49,
     "metadata": {},
     "output_type": "execute_result"
    }
   ],
   "source": [
    "# Peak at the results.\n",
    "results"
   ]
  },
  {
   "cell_type": "code",
   "execution_count": 50,
   "id": "61996bd1",
   "metadata": {},
   "outputs": [
    {
     "data": {
      "text/html": [
       "<div>\n",
       "<style scoped>\n",
       "    .dataframe tbody tr th:only-of-type {\n",
       "        vertical-align: middle;\n",
       "    }\n",
       "\n",
       "    .dataframe tbody tr th {\n",
       "        vertical-align: top;\n",
       "    }\n",
       "\n",
       "    .dataframe thead th {\n",
       "        text-align: right;\n",
       "    }\n",
       "</style>\n",
       "<table border=\"1\" class=\"dataframe\">\n",
       "  <thead>\n",
       "    <tr style=\"text-align: right;\">\n",
       "      <th></th>\n",
       "      <th>list</th>\n",
       "      <th>bubble</th>\n",
       "      <th>heap</th>\n",
       "    </tr>\n",
       "  </thead>\n",
       "  <tbody>\n",
       "    <tr>\n",
       "      <th>0</th>\n",
       "      <td>0, 1, 2, 3, 4</td>\n",
       "      <td>4</td>\n",
       "      <td>4</td>\n",
       "    </tr>\n",
       "    <tr>\n",
       "      <th>1</th>\n",
       "      <td>0, 1, 2, 4, 3</td>\n",
       "      <td>7</td>\n",
       "      <td>4</td>\n",
       "    </tr>\n",
       "    <tr>\n",
       "      <th>2</th>\n",
       "      <td>0, 1, 3, 2, 4</td>\n",
       "      <td>7</td>\n",
       "      <td>5</td>\n",
       "    </tr>\n",
       "    <tr>\n",
       "      <th>3</th>\n",
       "      <td>0, 1, 3, 4, 2</td>\n",
       "      <td>9</td>\n",
       "      <td>5</td>\n",
       "    </tr>\n",
       "    <tr>\n",
       "      <th>4</th>\n",
       "      <td>0, 1, 4, 2, 3</td>\n",
       "      <td>7</td>\n",
       "      <td>5</td>\n",
       "    </tr>\n",
       "    <tr>\n",
       "      <th>...</th>\n",
       "      <td>...</td>\n",
       "      <td>...</td>\n",
       "      <td>...</td>\n",
       "    </tr>\n",
       "    <tr>\n",
       "      <th>115</th>\n",
       "      <td>4, 3, 0, 2, 1</td>\n",
       "      <td>10</td>\n",
       "      <td>4</td>\n",
       "    </tr>\n",
       "    <tr>\n",
       "      <th>116</th>\n",
       "      <td>4, 3, 1, 0, 2</td>\n",
       "      <td>10</td>\n",
       "      <td>2</td>\n",
       "    </tr>\n",
       "    <tr>\n",
       "      <th>117</th>\n",
       "      <td>4, 3, 1, 2, 0</td>\n",
       "      <td>10</td>\n",
       "      <td>3</td>\n",
       "    </tr>\n",
       "    <tr>\n",
       "      <th>118</th>\n",
       "      <td>4, 3, 2, 0, 1</td>\n",
       "      <td>10</td>\n",
       "      <td>2</td>\n",
       "    </tr>\n",
       "    <tr>\n",
       "      <th>119</th>\n",
       "      <td>4, 3, 2, 1, 0</td>\n",
       "      <td>10</td>\n",
       "      <td>3</td>\n",
       "    </tr>\n",
       "  </tbody>\n",
       "</table>\n",
       "<p>120 rows × 3 columns</p>\n",
       "</div>"
      ],
      "text/plain": [
       "              list  bubble  heap\n",
       "0    0, 1, 2, 3, 4       4     4\n",
       "1    0, 1, 2, 4, 3       7     4\n",
       "2    0, 1, 3, 2, 4       7     5\n",
       "3    0, 1, 3, 4, 2       9     5\n",
       "4    0, 1, 4, 2, 3       7     5\n",
       "..             ...     ...   ...\n",
       "115  4, 3, 0, 2, 1      10     4\n",
       "116  4, 3, 1, 0, 2      10     2\n",
       "117  4, 3, 1, 2, 0      10     3\n",
       "118  4, 3, 2, 0, 1      10     2\n",
       "119  4, 3, 2, 1, 0      10     3\n",
       "\n",
       "[120 rows x 3 columns]"
      ]
     },
     "execution_count": 50,
     "metadata": {},
     "output_type": "execute_result"
    }
   ],
   "source": [
    "df = pd.DataFrame(results,columns=['list', 'bubble', 'heap'])\n",
    "df"
   ]
  },
  {
   "cell_type": "code",
   "execution_count": 51,
   "id": "94c7eadd",
   "metadata": {},
   "outputs": [
    {
     "data": {
      "text/html": [
       "<div>\n",
       "<style scoped>\n",
       "    .dataframe tbody tr th:only-of-type {\n",
       "        vertical-align: middle;\n",
       "    }\n",
       "\n",
       "    .dataframe tbody tr th {\n",
       "        vertical-align: top;\n",
       "    }\n",
       "\n",
       "    .dataframe thead th {\n",
       "        text-align: right;\n",
       "    }\n",
       "</style>\n",
       "<table border=\"1\" class=\"dataframe\">\n",
       "  <thead>\n",
       "    <tr style=\"text-align: right;\">\n",
       "      <th></th>\n",
       "      <th>bubble</th>\n",
       "      <th>heap</th>\n",
       "    </tr>\n",
       "  </thead>\n",
       "  <tbody>\n",
       "    <tr>\n",
       "      <th>count</th>\n",
       "      <td>120.000000</td>\n",
       "      <td>120.000000</td>\n",
       "    </tr>\n",
       "    <tr>\n",
       "      <th>mean</th>\n",
       "      <td>9.258333</td>\n",
       "      <td>3.933333</td>\n",
       "    </tr>\n",
       "    <tr>\n",
       "      <th>std</th>\n",
       "      <td>1.096180</td>\n",
       "      <td>1.382564</td>\n",
       "    </tr>\n",
       "    <tr>\n",
       "      <th>min</th>\n",
       "      <td>4.000000</td>\n",
       "      <td>1.000000</td>\n",
       "    </tr>\n",
       "    <tr>\n",
       "      <th>25%</th>\n",
       "      <td>9.000000</td>\n",
       "      <td>3.000000</td>\n",
       "    </tr>\n",
       "    <tr>\n",
       "      <th>50%</th>\n",
       "      <td>10.000000</td>\n",
       "      <td>4.000000</td>\n",
       "    </tr>\n",
       "    <tr>\n",
       "      <th>75%</th>\n",
       "      <td>10.000000</td>\n",
       "      <td>5.000000</td>\n",
       "    </tr>\n",
       "    <tr>\n",
       "      <th>max</th>\n",
       "      <td>10.000000</td>\n",
       "      <td>7.000000</td>\n",
       "    </tr>\n",
       "  </tbody>\n",
       "</table>\n",
       "</div>"
      ],
      "text/plain": [
       "           bubble        heap\n",
       "count  120.000000  120.000000\n",
       "mean     9.258333    3.933333\n",
       "std      1.096180    1.382564\n",
       "min      4.000000    1.000000\n",
       "25%      9.000000    3.000000\n",
       "50%     10.000000    4.000000\n",
       "75%     10.000000    5.000000\n",
       "max     10.000000    7.000000"
      ]
     },
     "execution_count": 51,
     "metadata": {},
     "output_type": "execute_result"
    }
   ],
   "source": [
    "df.describe()"
   ]
  },
  {
   "cell_type": "code",
   "execution_count": 52,
   "id": "9bf20beb",
   "metadata": {},
   "outputs": [
    {
     "name": "stdout",
     "output_type": "stream",
     "text": [
      "(0, 1, 2, 3, 4)  -> [0, 2, 1, 4, 3]\n",
      "(0, 1, 2, 4, 3)  -> [0, 2, 1, 3, 4]\n",
      "(0, 1, 3, 2, 4)  -> [0, 1, 2, 4, 3]\n",
      "(0, 1, 3, 4, 2)  -> [0, 2, 1, 3, 4]\n",
      "(0, 1, 4, 2, 3)  -> [0, 1, 2, 3, 4]\n",
      "(0, 1, 4, 3, 2)  -> [0, 1, 2, 3, 4]\n",
      "(0, 2, 1, 3, 4)  -> [0, 1, 2, 4, 3]\n",
      "(0, 2, 1, 4, 3)  -> [0, 1, 2, 3, 4]\n",
      "(0, 2, 3, 1, 4)  -> [0, 1, 2, 4, 3]\n",
      "(0, 2, 3, 4, 1)  -> [0, 1, 2, 3, 4]\n",
      "(0, 2, 4, 1, 3)  -> [0, 1, 2, 3, 4]\n",
      "(0, 2, 4, 3, 1)  -> [0, 1, 2, 3, 4]\n",
      "(0, 3, 1, 2, 4)  -> [0, 1, 2, 4, 3]\n",
      "(0, 3, 1, 4, 2)  -> [0, 1, 2, 3, 4]\n",
      "(0, 3, 2, 1, 4)  -> [0, 2, 1, 4, 3]\n",
      "(0, 3, 2, 4, 1)  -> [0, 2, 1, 3, 4]\n",
      "(0, 3, 4, 1, 2)  -> [0, 1, 2, 3, 4]\n",
      "(0, 3, 4, 2, 1)  -> [0, 1, 2, 3, 4]\n",
      "(0, 4, 1, 2, 3)  -> [0, 1, 2, 3, 4]\n",
      "(0, 4, 1, 3, 2)  -> [0, 1, 2, 3, 4]\n",
      "(0, 4, 2, 1, 3)  -> [0, 2, 1, 3, 4]\n",
      "(0, 4, 2, 3, 1)  -> [0, 2, 1, 3, 4]\n",
      "(0, 4, 3, 1, 2)  -> [0, 2, 1, 3, 4]\n",
      "(0, 4, 3, 2, 1)  -> [0, 1, 2, 3, 4]\n",
      "(1, 0, 2, 3, 4)  -> [0, 2, 1, 4, 3]\n",
      "(1, 0, 2, 4, 3)  -> [0, 2, 1, 3, 4]\n",
      "(1, 0, 3, 2, 4)  -> [0, 1, 2, 4, 3]\n",
      "(1, 0, 3, 4, 2)  -> [0, 2, 1, 3, 4]\n",
      "(1, 0, 4, 2, 3)  -> [0, 1, 2, 3, 4]\n",
      "(1, 0, 4, 3, 2)  -> [0, 1, 2, 3, 4]\n",
      "(1, 2, 0, 3, 4)  -> [0, 1, 2, 4, 3]\n",
      "(1, 2, 0, 4, 3)  -> [0, 1, 2, 3, 4]\n",
      "(1, 2, 3, 0, 4)  -> [0, 1, 2, 4, 3]\n",
      "(1, 2, 3, 4, 0)  -> [0, 1, 2, 3, 4]\n",
      "(1, 2, 4, 0, 3)  -> [0, 1, 2, 3, 4]\n",
      "(1, 2, 4, 3, 0)  -> [0, 1, 2, 3, 4]\n",
      "(1, 3, 0, 2, 4)  -> [0, 1, 2, 4, 3]\n",
      "(1, 3, 0, 4, 2)  -> [0, 1, 2, 3, 4]\n",
      "(1, 3, 2, 0, 4)  -> [0, 2, 1, 4, 3]\n",
      "(1, 3, 2, 4, 0)  -> [0, 2, 1, 3, 4]\n",
      "(1, 3, 4, 0, 2)  -> [0, 1, 2, 3, 4]\n",
      "(1, 3, 4, 2, 0)  -> [0, 1, 2, 3, 4]\n",
      "(1, 4, 0, 2, 3)  -> [0, 1, 2, 3, 4]\n",
      "(1, 4, 0, 3, 2)  -> [0, 1, 2, 3, 4]\n",
      "(1, 4, 2, 0, 3)  -> [0, 2, 1, 3, 4]\n",
      "(1, 4, 2, 3, 0)  -> [0, 2, 1, 3, 4]\n",
      "(1, 4, 3, 0, 2)  -> [0, 2, 1, 3, 4]\n",
      "(1, 4, 3, 2, 0)  -> [0, 1, 2, 3, 4]\n",
      "(2, 0, 1, 3, 4)  -> [0, 1, 2, 4, 3]\n",
      "(2, 0, 1, 4, 3)  -> [0, 1, 2, 3, 4]\n",
      "(2, 0, 3, 1, 4)  -> [0, 2, 1, 4, 3]\n",
      "(2, 0, 3, 4, 1)  -> [0, 1, 2, 3, 4]\n",
      "(2, 0, 4, 1, 3)  -> [0, 2, 1, 3, 4]\n",
      "(2, 0, 4, 3, 1)  -> [0, 2, 1, 3, 4]\n",
      "(2, 1, 0, 3, 4)  -> [0, 1, 2, 4, 3]\n",
      "(2, 1, 0, 4, 3)  -> [0, 1, 2, 3, 4]\n",
      "(2, 1, 3, 0, 4)  -> [0, 2, 1, 4, 3]\n",
      "(2, 1, 3, 4, 0)  -> [0, 1, 2, 3, 4]\n",
      "(2, 1, 4, 0, 3)  -> [0, 2, 1, 3, 4]\n",
      "(2, 1, 4, 3, 0)  -> [0, 2, 1, 3, 4]\n",
      "(2, 3, 0, 1, 4)  -> [0, 1, 2, 4, 3]\n",
      "(2, 3, 0, 4, 1)  -> [0, 1, 2, 3, 4]\n",
      "(2, 3, 1, 0, 4)  -> [0, 1, 2, 4, 3]\n",
      "(2, 3, 1, 4, 0)  -> [0, 1, 2, 3, 4]\n",
      "(2, 3, 4, 0, 1)  -> [0, 2, 1, 3, 4]\n",
      "(2, 3, 4, 1, 0)  -> [0, 2, 1, 3, 4]\n",
      "(2, 4, 0, 1, 3)  -> [0, 1, 2, 3, 4]\n",
      "(2, 4, 0, 3, 1)  -> [0, 1, 2, 3, 4]\n",
      "(2, 4, 1, 0, 3)  -> [0, 1, 2, 3, 4]\n",
      "(2, 4, 1, 3, 0)  -> [0, 1, 2, 3, 4]\n",
      "(2, 4, 3, 0, 1)  -> [0, 1, 2, 3, 4]\n",
      "(2, 4, 3, 1, 0)  -> [0, 1, 2, 3, 4]\n",
      "(3, 0, 1, 2, 4)  -> [0, 1, 2, 4, 3]\n",
      "(3, 0, 1, 4, 2)  -> [0, 1, 2, 3, 4]\n",
      "(3, 0, 2, 1, 4)  -> [0, 2, 1, 4, 3]\n",
      "(3, 0, 2, 4, 1)  -> [0, 2, 1, 3, 4]\n",
      "(3, 0, 4, 1, 2)  -> [0, 2, 1, 3, 4]\n",
      "(3, 0, 4, 2, 1)  -> [0, 1, 2, 3, 4]\n",
      "(3, 1, 0, 2, 4)  -> [0, 1, 2, 4, 3]\n",
      "(3, 1, 0, 4, 2)  -> [0, 1, 2, 3, 4]\n",
      "(3, 1, 2, 0, 4)  -> [0, 2, 1, 4, 3]\n",
      "(3, 1, 2, 4, 0)  -> [0, 2, 1, 3, 4]\n",
      "(3, 1, 4, 0, 2)  -> [0, 2, 1, 3, 4]\n",
      "(3, 1, 4, 2, 0)  -> [0, 1, 2, 3, 4]\n",
      "(3, 2, 0, 1, 4)  -> [0, 1, 2, 4, 3]\n",
      "(3, 2, 0, 4, 1)  -> [0, 1, 2, 3, 4]\n",
      "(3, 2, 1, 0, 4)  -> [0, 1, 2, 4, 3]\n",
      "(3, 2, 1, 4, 0)  -> [0, 1, 2, 3, 4]\n",
      "(3, 2, 4, 0, 1)  -> [0, 1, 2, 3, 4]\n",
      "(3, 2, 4, 1, 0)  -> [0, 1, 2, 3, 4]\n",
      "(3, 4, 0, 1, 2)  -> [0, 1, 2, 3, 4]\n",
      "(3, 4, 0, 2, 1)  -> [0, 1, 2, 3, 4]\n",
      "(3, 4, 1, 0, 2)  -> [0, 1, 2, 3, 4]\n",
      "(3, 4, 1, 2, 0)  -> [0, 1, 2, 3, 4]\n",
      "(3, 4, 2, 0, 1)  -> [0, 2, 1, 3, 4]\n",
      "(3, 4, 2, 1, 0)  -> [0, 2, 1, 3, 4]\n",
      "(4, 0, 1, 2, 3)  -> [0, 1, 2, 3, 4]\n",
      "(4, 0, 1, 3, 2)  -> [0, 1, 2, 3, 4]\n",
      "(4, 0, 2, 1, 3)  -> [0, 2, 1, 3, 4]\n",
      "(4, 0, 2, 3, 1)  -> [0, 2, 1, 3, 4]\n",
      "(4, 0, 3, 1, 2)  -> [0, 2, 1, 3, 4]\n",
      "(4, 0, 3, 2, 1)  -> [0, 1, 2, 3, 4]\n",
      "(4, 1, 0, 2, 3)  -> [0, 1, 2, 3, 4]\n",
      "(4, 1, 0, 3, 2)  -> [0, 1, 2, 3, 4]\n",
      "(4, 1, 2, 0, 3)  -> [0, 2, 1, 3, 4]\n",
      "(4, 1, 2, 3, 0)  -> [0, 2, 1, 3, 4]\n",
      "(4, 1, 3, 0, 2)  -> [0, 2, 1, 3, 4]\n",
      "(4, 1, 3, 2, 0)  -> [0, 1, 2, 3, 4]\n",
      "(4, 2, 0, 1, 3)  -> [0, 1, 2, 3, 4]\n",
      "(4, 2, 0, 3, 1)  -> [0, 1, 2, 3, 4]\n",
      "(4, 2, 1, 0, 3)  -> [0, 1, 2, 3, 4]\n",
      "(4, 2, 1, 3, 0)  -> [0, 1, 2, 3, 4]\n",
      "(4, 2, 3, 0, 1)  -> [0, 1, 2, 3, 4]\n",
      "(4, 2, 3, 1, 0)  -> [0, 1, 2, 3, 4]\n",
      "(4, 3, 0, 1, 2)  -> [0, 1, 2, 3, 4]\n",
      "(4, 3, 0, 2, 1)  -> [0, 1, 2, 3, 4]\n",
      "(4, 3, 1, 0, 2)  -> [0, 1, 2, 3, 4]\n",
      "(4, 3, 1, 2, 0)  -> [0, 1, 2, 3, 4]\n",
      "(4, 3, 2, 0, 1)  -> [0, 2, 1, 3, 4]\n",
      "(4, 3, 2, 1, 0)  -> [0, 2, 1, 3, 4]\n"
     ]
    }
   ],
   "source": [
    "import itertools\n",
    "\n",
    "for perm in itertools.permutations(range(5)):\n",
    "    L = list(perm)\n",
    "    heapsort(L)\n",
    "    print(f'{perm}  -> {L}')"
   ]
  },
  {
   "cell_type": "markdown",
   "id": "70758359",
   "metadata": {},
   "source": [
    "<br>\n",
    "<br>\n",
    "\n",
    "## Visualisation\n",
    "***"
   ]
  },
  {
   "cell_type": "code",
   "execution_count": 53,
   "id": "5f205aa2",
   "metadata": {},
   "outputs": [],
   "source": [
    "# Plots.\n",
    "import matplotlib.pyplot as plt"
   ]
  },
  {
   "cell_type": "code",
   "execution_count": 54,
   "id": "11e7a654",
   "metadata": {},
   "outputs": [],
   "source": [
    "# Change default plot size.\n",
    "plt.rcParams[\"figure.figsize\"] = (20,10)"
   ]
  },
  {
   "cell_type": "code",
   "execution_count": 55,
   "id": "d277463e",
   "metadata": {},
   "outputs": [],
   "source": [
    "# Graphs\n",
    "import networkx as nx"
   ]
  },
  {
   "cell_type": "code",
   "execution_count": 56,
   "id": "850461ba",
   "metadata": {},
   "outputs": [],
   "source": [
    "# Math functions.\n",
    "import math"
   ]
  },
  {
   "cell_type": "code",
   "execution_count": 57,
   "id": "b4761bbb",
   "metadata": {},
   "outputs": [],
   "source": [
    "# Numerical random functions.\n",
    "import numpy as np"
   ]
  },
  {
   "cell_type": "code",
   "execution_count": 58,
   "id": "9b30ca2d",
   "metadata": {},
   "outputs": [],
   "source": [
    "# Set up the random number generator = setting seed means we get same sequence each time.\n",
    "rng = np.random.default_rng(seed=0)"
   ]
  },
  {
   "cell_type": "code",
   "execution_count": 59,
   "id": "eda38713",
   "metadata": {},
   "outputs": [
    {
     "data": {
      "text/plain": [
       "[4, 6, 2, 7, 3, 5, 9, 0, 8, 1]"
      ]
     },
     "execution_count": 59,
     "metadata": {},
     "output_type": "execute_result"
    }
   ],
   "source": [
    "# Shuffle a list of integers.\n",
    "L = list(rng.permutation(10))\n",
    "L"
   ]
  },
  {
   "cell_type": "code",
   "execution_count": 60,
   "id": "a27b9a40",
   "metadata": {},
   "outputs": [],
   "source": [
    "def drawtree(L, highlight=None):\n",
    "  # Create a fully balanced binary tree.\n",
    "  T = nx.balanced_tree(2, math.floor(math.log(len(L), 2)))\n",
    "  # Remove nodes beyond the length of L.\n",
    "  T.remove_nodes_from(list(T.nodes)[len(L):])\n",
    "  # Relabel the nodes with elements of L.\n",
    "  T = nx.relabel_nodes(T, dict(zip(T.nodes, L)), copy=True)\n",
    "  # Get nice positions for the nodes in the picture.\n",
    "  pos = nx.drawing.nx_pydot.graphviz_layout(T, prog=\"dot\")\n",
    "  # Draw the graph.\n",
    "  nx.draw(T, pos, with_labels=True, node_color='lightgrey', node_size=1600, font_size=32)\n",
    "  # Highlight nodes if needed.\n",
    "  if highlight:\n",
    "    nx.draw_networkx(T.subgraph([i for i in T.nodes if i in highlight]), pos=pos, node_color='pink', node_size=800, font_size=18)"
   ]
  },
  {
   "cell_type": "code",
   "execution_count": 61,
   "id": "1f381c22",
   "metadata": {},
   "outputs": [],
   "source": [
    "S = []"
   ]
  },
  {
   "cell_type": "code",
   "execution_count": 62,
   "id": "1ce4dbfa",
   "metadata": {},
   "outputs": [],
   "source": [
    "S = [L[0]] + S"
   ]
  },
  {
   "cell_type": "code",
   "execution_count": 63,
   "id": "87589334",
   "metadata": {},
   "outputs": [
    {
     "data": {
      "text/plain": [
       "[4]"
      ]
     },
     "execution_count": 63,
     "metadata": {},
     "output_type": "execute_result"
    }
   ],
   "source": [
    "S"
   ]
  },
  {
   "cell_type": "code",
   "execution_count": 64,
   "id": "aa85d71b",
   "metadata": {},
   "outputs": [],
   "source": [
    "L[0], L[-1] = L[-1], L[0]"
   ]
  },
  {
   "cell_type": "code",
   "execution_count": 65,
   "id": "f17afdf1",
   "metadata": {},
   "outputs": [
    {
     "data": {
      "text/plain": [
       "[1, 6, 2, 7, 3, 5, 9, 0, 8, 4]"
      ]
     },
     "execution_count": 65,
     "metadata": {},
     "output_type": "execute_result"
    }
   ],
   "source": [
    "L"
   ]
  },
  {
   "cell_type": "code",
   "execution_count": 66,
   "id": "3a401232",
   "metadata": {},
   "outputs": [
    {
     "data": {
      "text/plain": [
       "[1, 6, 2, 7, 3, 5, 9, 0, 8]"
      ]
     },
     "execution_count": 66,
     "metadata": {},
     "output_type": "execute_result"
    }
   ],
   "source": [
    "L = L[:-1]\n",
    "L"
   ]
  },
  {
   "cell_type": "code",
   "execution_count": 67,
   "id": "27a0f55c",
   "metadata": {},
   "outputs": [
    {
     "data": {
      "text/plain": [
       "([1, 6, 2, 7, 3, 5, 9, 0, 8], [4])"
      ]
     },
     "execution_count": 67,
     "metadata": {},
     "output_type": "execute_result"
    }
   ],
   "source": [
    "L,S"
   ]
  },
  {
   "cell_type": "code",
   "execution_count": 68,
   "id": "2acc120e",
   "metadata": {},
   "outputs": [],
   "source": [
    "L[2],L[1]=L[1],L[2]"
   ]
  },
  {
   "cell_type": "code",
   "execution_count": 69,
   "id": "fb059005",
   "metadata": {},
   "outputs": [
    {
     "data": {
      "text/plain": [
       "[1, 2, 6, 7, 3, 5, 9, 0, 8]"
      ]
     },
     "execution_count": 69,
     "metadata": {},
     "output_type": "execute_result"
    },
    {
     "data": {
      "image/png": "[encoded data removed]",
      "text/plain": [
       "<Figure size 1440x720 with 1 Axes>"
      ]
     },
     "metadata": {},
     "output_type": "display_data"
    }
   ],
   "source": [
    "drawtree(L, [8,6,7])\n",
    "L"
   ]
  },
  {
   "cell_type": "code",
   "execution_count": 70,
   "id": "839ff11d",
   "metadata": {},
   "outputs": [
    {
     "data": {
      "image/png": "[encoded data removed]",
      "text/plain": [
       "<Figure size 1440x720 with 1 Axes>"
      ]
     },
     "metadata": {},
     "output_type": "display_data"
    }
   ],
   "source": [
    "drawtree(L, [4,6,2])"
   ]
  },
  {
   "cell_type": "markdown",
   "id": "1d216287",
   "metadata": {},
   "source": [
    "<br>\n",
    "\n",
    "## $log_b n$\n",
    "***"
   ]
  },
  {
   "cell_type": "markdown",
   "id": "4a21461b",
   "metadata": {},
   "source": [
    "$ 2^4 = 2 \\times 2 \\times 2 \\times 2 = 16$\n",
    "\n",
    "$ 2^{-4} = \\frac{1}{2^4}$\n",
    "\n",
    "$ 2^4 \\times 2^{-4} =  2^{4+(-4)} = 2^{0} = 1$\n",
    "\n",
    "$ 2^{\\frac{1}{2}} = \\sqrt{2} $"
   ]
  },
  {
   "cell_type": "markdown",
   "id": "cbb2d941",
   "metadata": {},
   "source": [
    "<br>\n",
    "$\\Leftrightarrow $ left hand side is true if & only if right hand side is true\n",
    "\n",
    "$ b^a = n \\Leftrightarrow \\log_b n = a$\n",
    "\n",
    "$ 2^4 = 16 \\Leftrightarrow \\log_b 16 = 4$"
   ]
  },
  {
   "cell_type": "code",
   "execution_count": 71,
   "id": "97a622e4",
   "metadata": {},
   "outputs": [],
   "source": [
    "# Import math to calculate log.\n",
    "import math"
   ]
  },
  {
   "cell_type": "code",
   "execution_count": 72,
   "id": "e3e12ddc",
   "metadata": {},
   "outputs": [
    {
     "data": {
      "text/plain": [
       "4.0"
      ]
     },
     "execution_count": 72,
     "metadata": {},
     "output_type": "execute_result"
    }
   ],
   "source": [
    "math.log(16,2)"
   ]
  },
  {
   "cell_type": "code",
   "execution_count": 73,
   "id": "b69e34fd",
   "metadata": {},
   "outputs": [
    {
     "data": {
      "text/plain": [
       "-1.0"
      ]
     },
     "execution_count": 73,
     "metadata": {},
     "output_type": "execute_result"
    }
   ],
   "source": [
    "math.log(0.5,2)"
   ]
  },
  {
   "cell_type": "markdown",
   "id": "b8b9a0a3",
   "metadata": {},
   "source": [
    "## Height of a tree\n",
    "\n",
    "***"
   ]
  },
  {
   "cell_type": "code",
   "execution_count": 76,
   "id": "4c91fe12",
   "metadata": {},
   "outputs": [
    {
     "name": "stdout",
     "output_type": "stream",
     "text": [
      "[0, 1, 2, 3, 4, 5, 6, 7, 8, 9, 10, 11, 12, 13, 14, 15, 16, 17, 18, 19, 20, 21, 22, 23, 24, 25, 26, 27, 28, 29, 30]\n"
     ]
    },
    {
     "data": {
      "image/png": "[encoded data removed]",
      "text/plain": [
       "<Figure size 1440x720 with 1 Axes>"
      ]
     },
     "metadata": {},
     "output_type": "display_data"
    }
   ],
   "source": [
    "# Length of the list.\n",
    "n = 31\n",
    "# Create a list of length n.\n",
    "L = list(range(n))\n",
    "# Show the list.\n",
    "print(L)\n",
    "# Draw the tree from L.\n",
    "drawtree(L)"
   ]
  },
  {
   "cell_type": "code",
   "execution_count": 84,
   "id": "cbbe8b41",
   "metadata": {},
   "outputs": [
    {
     "data": {
      "text/plain": [
       "31"
      ]
     },
     "execution_count": 84,
     "metadata": {},
     "output_type": "execute_result"
    }
   ],
   "source": [
    "2**0 + 2**1 + 2**2 + 2**3 + 2**4"
   ]
  },
  {
   "cell_type": "markdown",
   "id": "2611d5d2",
   "metadata": {},
   "source": [
    "$ 2^{h+1} -1 = \\sum_{i=0}^h 2^i$"
   ]
  },
  {
   "cell_type": "code",
   "execution_count": 91,
   "id": "156013de",
   "metadata": {},
   "outputs": [],
   "source": [
    "def max_list_length(height):\n",
    "    total_nodes = 0\n",
    "    for i in range(height + 1):\n",
    "        total_nodes = total_nodes + 2**i\n",
    "    return total_nodes"
   ]
  },
  {
   "cell_type": "code",
   "execution_count": 92,
   "id": "4c65b55a",
   "metadata": {},
   "outputs": [
    {
     "data": {
      "text/plain": [
       "31"
      ]
     },
     "execution_count": 92,
     "metadata": {},
     "output_type": "execute_result"
    }
   ],
   "source": [
    "max_list_length(4)"
   ]
  },
  {
   "cell_type": "code",
   "execution_count": 93,
   "id": "25652ba8",
   "metadata": {},
   "outputs": [
    {
     "data": {
      "text/plain": [
       "2047"
      ]
     },
     "execution_count": 93,
     "metadata": {},
     "output_type": "execute_result"
    }
   ],
   "source": [
    "max_list_length(10)"
   ]
  },
  {
   "cell_type": "code",
   "execution_count": 94,
   "id": "a80677b8",
   "metadata": {},
   "outputs": [
    {
     "data": {
      "text/plain": [
       "32"
      ]
     },
     "execution_count": 94,
     "metadata": {},
     "output_type": "execute_result"
    }
   ],
   "source": [
    "2**5"
   ]
  },
  {
   "cell_type": "code",
   "execution_count": 95,
   "id": "9a0ad805",
   "metadata": {},
   "outputs": [
    {
     "data": {
      "text/plain": [
       "2048"
      ]
     },
     "execution_count": 95,
     "metadata": {},
     "output_type": "execute_result"
    }
   ],
   "source": [
    "2**11"
   ]
  },
  {
   "cell_type": "code",
   "execution_count": 99,
   "id": "b8760ff3",
   "metadata": {},
   "outputs": [
    {
     "data": {
      "text/plain": [
       "31"
      ]
     },
     "execution_count": 99,
     "metadata": {},
     "output_type": "execute_result"
    }
   ],
   "source": [
    "0b11111"
   ]
  },
  {
   "cell_type": "code",
   "execution_count": 100,
   "id": "fd3e7463",
   "metadata": {},
   "outputs": [
    {
     "name": "stdout",
     "output_type": "stream",
     "text": [
      "32\t 5.0\n",
      "31\t 4.95\n",
      "30\t 4.91\n",
      "29\t 4.86\n",
      "28\t 4.81\n",
      "27\t 4.75\n",
      "26\t 4.7\n",
      "25\t 4.64\n",
      "24\t 4.58\n",
      "23\t 4.52\n",
      "22\t 4.46\n",
      "21\t 4.39\n",
      "20\t 4.32\n",
      "19\t 4.25\n",
      "18\t 4.17\n",
      "17\t 4.09\n",
      "16\t 4.0\n",
      "15\t 3.91\n",
      "14\t 3.81\n",
      "13\t 3.7\n",
      "12\t 3.58\n",
      "11\t 3.46\n",
      "10\t 3.32\n",
      " 9\t 3.17\n",
      " 8\t 3.0\n",
      " 7\t 2.81\n",
      " 6\t 2.58\n",
      " 5\t 2.32\n",
      " 4\t 2.0\n",
      " 3\t 1.58\n",
      " 2\t 1.0\n"
     ]
    }
   ],
   "source": [
    "for length in range(32,1,-1):\n",
    "    print(f'{length:2}\\t {math.log(length,2):-2.3}')"
   ]
  },
  {
   "cell_type": "markdown",
   "id": "4588c6ae",
   "metadata": {},
   "source": [
    "<br>\n",
    "\n",
    "## Big O\n",
    "\n",
    "***"
   ]
  },
  {
   "cell_type": "code",
   "execution_count": 123,
   "id": "af1c52b2",
   "metadata": {},
   "outputs": [],
   "source": [
    "n = np.arange(0.1,100.1,0.1)\n",
    "\n",
    "y1 = n**2\n",
    "y2 = n * np.log(n)"
   ]
  },
  {
   "cell_type": "code",
   "execution_count": 124,
   "id": "112dd456",
   "metadata": {},
   "outputs": [
    {
     "data": {
      "text/plain": [
       "<matplotlib.legend.Legend at 0x25d614984f0>"
      ]
     },
     "execution_count": 124,
     "metadata": {},
     "output_type": "execute_result"
    },
    {
     "data": {
      "image/png": "[encoded data removed]",
      "text/plain": [
       "<Figure size 1440x720 with 1 Axes>"
      ]
     },
     "metadata": {
      "needs_background": "light"
     },
     "output_type": "display_data"
    }
   ],
   "source": [
    "plt.plot(n, y1, label='$n^2$')\n",
    "plt.plot(n, y2, label='$n \\log(n)$')\n",
    "\n",
    "plt.legend()"
   ]
  },
  {
   "cell_type": "markdown",
   "id": "b52d0cc6",
   "metadata": {},
   "source": [
    "**Quick definition**\n",
    "\n",
    "$f(n) = n ^ 2$ is $O(g(n))$ where $g(n) = n^3$\n",
    "\n",
    "because\n",
    "\n",
    "$f(n) \\leq 1 \\times g(n) $ for all $n \\geq 1$\n",
    "\n",
    "where\n",
    "\n",
    "$n_0 =1$ in this case."
   ]
  },
  {
   "cell_type": "code",
   "execution_count": 128,
   "id": "77b3b97c",
   "metadata": {},
   "outputs": [
    {
     "data": {
      "text/plain": [
       "<matplotlib.legend.Legend at 0x25d5dc2cbb0>"
      ]
     },
     "execution_count": 128,
     "metadata": {},
     "output_type": "execute_result"
    },
    {
     "data": {
      "image/png": "[encoded data removed]",
      "text/plain": [
       "<Figure size 1440x720 with 1 Axes>"
      ]
     },
     "metadata": {
      "needs_background": "light"
     },
     "output_type": "display_data"
    }
   ],
   "source": [
    "n = np.arange(0.0,2.1,0.01)\n",
    "\n",
    "plt.plot(n, n**2, label='$n^2$')\n",
    "plt.plot(n, n**3, label='$n^3$')\n",
    "\n",
    "plt.legend()"
   ]
  },
  {
   "cell_type": "markdown",
   "id": "068dfc98",
   "metadata": {},
   "source": [
    "Technically $2n^2$ is $O(n^2)$ even though..."
   ]
  },
  {
   "cell_type": "code",
   "execution_count": 129,
   "id": "e89ae3bc",
   "metadata": {},
   "outputs": [
    {
     "data": {
      "text/plain": [
       "<matplotlib.legend.Legend at 0x25d622450d0>"
      ]
     },
     "execution_count": 129,
     "metadata": {},
     "output_type": "execute_result"
    },
    {
     "data": {
      "image/png": "[encoded data removed]",
      "text/plain": [
       "<Figure size 1440x720 with 1 Axes>"
      ]
     },
     "metadata": {
      "needs_background": "light"
     },
     "output_type": "display_data"
    }
   ],
   "source": [
    "n = np.arange(0.0,2.1,0.01)\n",
    "\n",
    "plt.plot(n, 2.0*(n**2), label='$2n^2$')\n",
    "plt.plot(n, n**2, label='$n^2$')\n",
    "\n",
    "plt.legend()"
   ]
  },
  {
   "cell_type": "markdown",
   "id": "db56e2ea",
   "metadata": {},
   "source": []
  },
  {
   "cell_type": "markdown",
   "id": "faf96ed5",
   "metadata": {},
   "source": [
    "$ n \\times \\log(n)$ + $n \\times \\log(n) = 2 n \\log(n)$ \n",
    "\n",
    "$ 2 n \\log(n)$ is $O(n\\log(n))$"
   ]
  },
  {
   "cell_type": "code",
   "execution_count": null,
   "id": "08df4247",
   "metadata": {},
   "outputs": [],
   "source": []
  }
 ],
 "metadata": {
  "kernelspec": {
   "display_name": "Python 3 (ipykernel)",
   "language": "python",
   "name": "python3"
  },
  "language_info": {
   "codemirror_mode": {
    "name": "ipython",
    "version": 3
   },
   "file_extension": ".py",
   "mimetype": "text/x-python",
   "name": "python",
   "nbconvert_exporter": "python",
   "pygments_lexer": "ipython3",
   "version": "3.9.7"
  }
 },
 "nbformat": 4,
 "nbformat_minor": 5
}
